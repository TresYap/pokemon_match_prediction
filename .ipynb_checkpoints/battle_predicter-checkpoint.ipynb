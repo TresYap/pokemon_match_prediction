{
 "cells": [
  {
   "cell_type": "markdown",
   "metadata": {},
   "source": [
    "### Today I learned that the pkl file saves the weights but not the names, so the order of the data is impt \n",
    "bs problem of the night: when i trained my models, the order was second_stats, first_stats, outcome. So when I ran first_stats, second_stats in this notebook, pkl model flipped the predictions."
   ]
  },
  {
   "cell_type": "code",
   "execution_count": 1,
   "metadata": {},
   "outputs": [],
   "source": [
    "import pickle\n",
    "import pandas as pd\n",
    "import numpy as np"
   ]
  },
  {
   "cell_type": "code",
   "execution_count": 2,
   "metadata": {},
   "outputs": [],
   "source": [
    "model = pickle.load(open(\"model/rf_final.pkl\", 'rb'))"
   ]
  },
  {
   "cell_type": "code",
   "execution_count": 3,
   "metadata": {},
   "outputs": [],
   "source": [
    "pokemon = pd.read_csv(\"pokemon.csv\")\n",
    "typechart = pd.read_csv(\"chart.csv\")\n",
    "\n",
    "pokemon['Type 2'].fillna(\"No Type\", inplace=True)\n",
    "\n",
    "typechart['No Type'] = 1.0\n",
    "typechart['Normal'] = typechart.Normal.astype('float64')\n",
    "\n",
    "#add row for no type (why did it take me 15 mins to figure this out when it was this easy)\n",
    "row = np.ones(19).tolist()\n",
    "row.insert(0, \"No Type\")\n",
    "typechart.loc[len(typechart)] = row"
   ]
  },
  {
   "cell_type": "markdown",
   "metadata": {},
   "source": [
    "Input: Names of your pokemon and enemy pokemon (case sensitive cuz i'm too lazy) <br>\n",
    "Output: Predicted winner of match"
   ]
  },
  {
   "cell_type": "code",
   "execution_count": 6,
   "metadata": {},
   "outputs": [],
   "source": [
    "#Takes input of your pokemon (first pokemon) and their pokemon (second pokemon)\n",
    "def predict_battle(yours, theirs):\n",
    "    #Gets stats of each pokemon and merges them as first_stats and second_stats\n",
    "    your_pokemon = pokemon.loc[pokemon.Name == yours].reset_index(drop=True)\n",
    "    their_pokemon = pokemon.loc[pokemon.Name == theirs].reset_index(drop=True)\n",
    "    \n",
    "    your_pokemon = your_pokemon.add_prefix(\"first_\")\n",
    "    their_pokemon = their_pokemon.add_prefix(\"second_\")\n",
    "    \n",
    "    battle = their_pokemon.merge(your_pokemon, left_index=True, right_index=True)\n",
    "    \n",
    "    #Performs typechart calculations\n",
    "    idx = 0\n",
    "    battle.at[idx, 'first_Attack'] = battle.iloc[idx].first_Attack * typechart.loc[(typechart.Attacking == battle.iloc[idx][\"first_Type 1\"]) | (typechart.Attacking == battle.iloc[idx][\"first_Type 2\"])][battle.iloc[idx][\"second_Type 1\"]].prod() * typechart.loc[(typechart.Attacking == battle.iloc[idx][\"first_Type 1\"]) | (typechart.Attacking == battle.iloc[idx][\"first_Type 2\"])][battle.iloc[idx][\"second_Type 2\"]].prod()\n",
    "    battle.at[idx, 'first_Sp. Atk'] = battle.iloc[idx]['first_Sp. Atk'] * typechart.loc[(typechart.Attacking == battle.iloc[idx][\"first_Type 1\"]) | (typechart.Attacking == battle.iloc[idx][\"first_Type 2\"])][battle.iloc[idx][\"second_Type 1\"]].prod() * typechart.loc[(typechart.Attacking == battle.iloc[idx][\"first_Type 1\"]) | (typechart.Attacking == battle.iloc[idx][\"first_Type 2\"])][battle.iloc[idx][\"second_Type 2\"]].prod()\n",
    "    \n",
    "    battle.at[idx, 'second_Attack'] = battle.iloc[idx].second_Attack * typechart.loc[(typechart.Attacking == battle.iloc[idx][\"second_Type 1\"]) | (typechart.Attacking == battle.iloc[idx][\"second_Type 2\"])][battle.iloc[idx][\"first_Type 1\"]].prod() * typechart.loc[(typechart.Attacking == battle.iloc[idx][\"second_Type 1\"]) | (typechart.Attacking == battle.iloc[idx][\"second_Type 2\"])][battle.iloc[idx][\"first_Type 2\"]].prod()\n",
    "    battle.at[idx, 'second_Sp. Atk'] = battle.iloc[idx]['second_Sp. Atk'] * typechart.loc[(typechart.Attacking == battle.iloc[idx][\"second_Type 1\"]) | (typechart.Attacking == battle.iloc[idx][\"second_Type 2\"])][battle.iloc[idx][\"first_Type 1\"]].prod() * typechart.loc[(typechart.Attacking == battle.iloc[idx][\"second_Type 1\"]) | (typechart.Attacking == battle.iloc[idx][\"second_Type 2\"])][battle.iloc[idx][\"first_Type 2\"]].prod()\n",
    "    \n",
    "    #Remove useless columns \n",
    "    drop = ['first_#', 'first_Name', 'second_#', 'second_Name', 'first_Type 1', 'first_Type 2', 'second_Type 1', 'second_Type 2', 'first_Generation', 'first_Legendary',\n",
    "           'second_Generation', 'second_Legendary']\n",
    "    battle.drop(drop, axis=1, inplace=True)\n",
    "    \n",
    "    #Predict using RF model\n",
    "    pred = model.predict(battle)\n",
    "    probs = model.predict_proba(battle)\n",
    "\n",
    "    #If 0, yours wins, else theirs wins\n",
    "    if pred[0] == 0:\n",
    "        return \"%s (%.2f%% confident)\" % (yours, probs[0][0]*100)\n",
    "    else:\n",
    "        return \"%s (%.2f%% confident)\" % (theirs, probs[0][1]*100)"
   ]
  },
  {
   "cell_type": "code",
   "execution_count": 7,
   "metadata": {},
   "outputs": [
    {
     "name": "stdout",
     "output_type": "stream",
     "text": [
      "Who do you choose?\n"
     ]
    },
    {
     "name": "stdin",
     "output_type": "stream",
     "text": [
      " Seadra\n"
     ]
    },
    {
     "name": "stdout",
     "output_type": "stream",
     "text": [
      "Who are you fighting?\n"
     ]
    },
    {
     "name": "stdin",
     "output_type": "stream",
     "text": [
      " Kadabra\n"
     ]
    },
    {
     "name": "stdout",
     "output_type": "stream",
     "text": [
      "Predicted Winner: Kadabra (92.33% confident)\n",
      "Who do you choose?\n"
     ]
    },
    {
     "name": "stdin",
     "output_type": "stream",
     "text": [
      " Kadabra\n"
     ]
    },
    {
     "name": "stdout",
     "output_type": "stream",
     "text": [
      "Who are you fighting?\n"
     ]
    },
    {
     "name": "stdin",
     "output_type": "stream",
     "text": [
      " Seadra\n"
     ]
    },
    {
     "name": "stdout",
     "output_type": "stream",
     "text": [
      "Predicted Winner: Kadabra (87.33% confident)\n",
      "Who do you choose?\n"
     ]
    },
    {
     "name": "stdin",
     "output_type": "stream",
     "text": [
      " q\n"
     ]
    },
    {
     "name": "stdout",
     "output_type": "stream",
     "text": [
      "Thanks for playing\n"
     ]
    }
   ],
   "source": [
    "while True:\n",
    "    print(\"Who do you choose?\")\n",
    "    yours = input()\n",
    "    if yours == \"q\": \n",
    "        print(\"Thanks for playing\")\n",
    "        break\n",
    "    elif yours not in pokemon.values:\n",
    "        print(\"Error: Pokemon does not exist\")\n",
    "        continue\n",
    "    print(\"Who are you fighting?\")\n",
    "    theirs = input()\n",
    "    if theirs == \"q\": \n",
    "        print(\"Thanks for playing\")\n",
    "        break\n",
    "    elif theirs not in pokemon.values:\n",
    "        print(\"Error: Pokemon does not exist\")\n",
    "        continue\n",
    "    #call function\n",
    "    print(\"Predicted Winner:\", predict_battle(yours, theirs))"
   ]
  }
 ],
 "metadata": {
  "kernelspec": {
   "display_name": "Python 3",
   "language": "python",
   "name": "python3"
  },
  "language_info": {
   "codemirror_mode": {
    "name": "ipython",
    "version": 3
   },
   "file_extension": ".py",
   "mimetype": "text/x-python",
   "name": "python",
   "nbconvert_exporter": "python",
   "pygments_lexer": "ipython3",
   "version": "3.7.4"
  }
 },
 "nbformat": 4,
 "nbformat_minor": 4
}
