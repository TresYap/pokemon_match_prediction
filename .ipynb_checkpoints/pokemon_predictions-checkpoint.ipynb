{
 "cells": [
  {
   "cell_type": "markdown",
   "metadata": {},
   "source": [
    "### From ML experiments, as far as models are concerned, RandomForest does really well\n",
    "More than gradient boosting by a bit (but considering gb is a pain to optimize, i'll stick w RF)"
   ]
  },
  {
   "cell_type": "code",
   "execution_count": 1,
   "metadata": {},
   "outputs": [],
   "source": [
    "import pandas as pd\n",
    "import numpy as np\n",
    "from sklearn.ensemble import RandomForestClassifier\n",
    "from sklearn.model_selection import RandomizedSearchCV"
   ]
  },
  {
   "cell_type": "code",
   "execution_count": 2,
   "metadata": {},
   "outputs": [],
   "source": [
    "train = pd.read_csv(\"battles_updated.csv\")\n",
    "test = pd.read_csv(\"tests.csv\")\n",
    "pokemon = pd.read_csv(\"pokemon.csv\")\n",
    "typechart = pd.read_csv(\"chart.csv\")\n",
    "\n",
    "#Drop unnecessary columns\n",
    "try:\n",
    "#     drop = [\"first_Type 1\", \"first_Type 2\", \"second_Type 1\", \"second_Type 2\", \"First_pokemon\", \"Second_pokemon\", \"first_Multiplier\", \"second_Multiplier\"]\n",
    "    drop = [\"First_pokemon\", \"Second_pokemon\"]\n",
    "    train.drop(drop, axis=1, inplace=True)\n",
    "except Exception as e:\n",
    "    print(e)"
   ]
  },
  {
   "cell_type": "code",
   "execution_count": 3,
   "metadata": {},
   "outputs": [
    {
     "data": {
      "text/html": [
       "<div>\n",
       "<style scoped>\n",
       "    .dataframe tbody tr th:only-of-type {\n",
       "        vertical-align: middle;\n",
       "    }\n",
       "\n",
       "    .dataframe tbody tr th {\n",
       "        vertical-align: top;\n",
       "    }\n",
       "\n",
       "    .dataframe thead th {\n",
       "        text-align: right;\n",
       "    }\n",
       "</style>\n",
       "<table border=\"1\" class=\"dataframe\">\n",
       "  <thead>\n",
       "    <tr style=\"text-align: right;\">\n",
       "      <th></th>\n",
       "      <th>second_HP</th>\n",
       "      <th>second_Attack</th>\n",
       "      <th>second_Defense</th>\n",
       "      <th>second_Sp. Atk</th>\n",
       "      <th>second_Sp. Def</th>\n",
       "      <th>second_Speed</th>\n",
       "      <th>first_HP</th>\n",
       "      <th>first_Attack</th>\n",
       "      <th>first_Defense</th>\n",
       "      <th>first_Sp. Atk</th>\n",
       "      <th>first_Sp. Def</th>\n",
       "      <th>first_Speed</th>\n",
       "      <th>outcome</th>\n",
       "      <th>type_interaction</th>\n",
       "    </tr>\n",
       "  </thead>\n",
       "  <tbody>\n",
       "    <tr>\n",
       "      <td>0</td>\n",
       "      <td>45</td>\n",
       "      <td>49</td>\n",
       "      <td>49</td>\n",
       "      <td>65</td>\n",
       "      <td>65</td>\n",
       "      <td>45</td>\n",
       "      <td>40</td>\n",
       "      <td>45</td>\n",
       "      <td>40</td>\n",
       "      <td>35</td>\n",
       "      <td>35</td>\n",
       "      <td>56</td>\n",
       "      <td>0</td>\n",
       "      <td>-1.5</td>\n",
       "    </tr>\n",
       "    <tr>\n",
       "      <td>1</td>\n",
       "      <td>45</td>\n",
       "      <td>49</td>\n",
       "      <td>49</td>\n",
       "      <td>65</td>\n",
       "      <td>65</td>\n",
       "      <td>45</td>\n",
       "      <td>30</td>\n",
       "      <td>56</td>\n",
       "      <td>35</td>\n",
       "      <td>25</td>\n",
       "      <td>35</td>\n",
       "      <td>72</td>\n",
       "      <td>0</td>\n",
       "      <td>0.0</td>\n",
       "    </tr>\n",
       "    <tr>\n",
       "      <td>2</td>\n",
       "      <td>45</td>\n",
       "      <td>49</td>\n",
       "      <td>49</td>\n",
       "      <td>65</td>\n",
       "      <td>65</td>\n",
       "      <td>45</td>\n",
       "      <td>60</td>\n",
       "      <td>65</td>\n",
       "      <td>70</td>\n",
       "      <td>85</td>\n",
       "      <td>75</td>\n",
       "      <td>40</td>\n",
       "      <td>1</td>\n",
       "      <td>0.0</td>\n",
       "    </tr>\n",
       "    <tr>\n",
       "      <td>3</td>\n",
       "      <td>45</td>\n",
       "      <td>49</td>\n",
       "      <td>49</td>\n",
       "      <td>65</td>\n",
       "      <td>65</td>\n",
       "      <td>45</td>\n",
       "      <td>55</td>\n",
       "      <td>70</td>\n",
       "      <td>45</td>\n",
       "      <td>70</td>\n",
       "      <td>50</td>\n",
       "      <td>60</td>\n",
       "      <td>0</td>\n",
       "      <td>-1.5</td>\n",
       "    </tr>\n",
       "    <tr>\n",
       "      <td>4</td>\n",
       "      <td>45</td>\n",
       "      <td>49</td>\n",
       "      <td>49</td>\n",
       "      <td>65</td>\n",
       "      <td>65</td>\n",
       "      <td>45</td>\n",
       "      <td>50</td>\n",
       "      <td>75</td>\n",
       "      <td>35</td>\n",
       "      <td>70</td>\n",
       "      <td>30</td>\n",
       "      <td>40</td>\n",
       "      <td>1</td>\n",
       "      <td>0.0</td>\n",
       "    </tr>\n",
       "  </tbody>\n",
       "</table>\n",
       "</div>"
      ],
      "text/plain": [
       "   second_HP  second_Attack  second_Defense  second_Sp. Atk  second_Sp. Def  \\\n",
       "0         45             49              49              65              65   \n",
       "1         45             49              49              65              65   \n",
       "2         45             49              49              65              65   \n",
       "3         45             49              49              65              65   \n",
       "4         45             49              49              65              65   \n",
       "\n",
       "   second_Speed  first_HP  first_Attack  first_Defense  first_Sp. Atk  \\\n",
       "0            45        40            45             40             35   \n",
       "1            45        30            56             35             25   \n",
       "2            45        60            65             70             85   \n",
       "3            45        55            70             45             70   \n",
       "4            45        50            75             35             70   \n",
       "\n",
       "   first_Sp. Def  first_Speed  outcome  type_interaction  \n",
       "0             35           56        0              -1.5  \n",
       "1             35           72        0               0.0  \n",
       "2             75           40        1               0.0  \n",
       "3             50           60        0              -1.5  \n",
       "4             30           40        1               0.0  "
      ]
     },
     "execution_count": 3,
     "metadata": {},
     "output_type": "execute_result"
    }
   ],
   "source": [
    "train.head()"
   ]
  },
  {
   "cell_type": "code",
   "execution_count": 4,
   "metadata": {},
   "outputs": [],
   "source": [
    "y = train.outcome\n",
    "train.drop(\"outcome\", axis=1, inplace=True)"
   ]
  },
  {
   "cell_type": "markdown",
   "metadata": {},
   "source": [
    "### Randomized Search CV"
   ]
  },
  {
   "cell_type": "code",
   "execution_count": 5,
   "metadata": {},
   "outputs": [],
   "source": [
    "params = {\n",
    "    \"n_estimators\": [100, 200, 300, 400, 500],\n",
    "    \"max_depth\": [None, 5, 8]\n",
    "}\n",
    "rf_model = RandomForestClassifier()\n",
    "random_cv = RandomizedSearchCV(rf_model, params, random_state=42, cv=5, scoring='f1', n_jobs=-1, verbose=1)"
   ]
  },
  {
   "cell_type": "code",
   "execution_count": 6,
   "metadata": {},
   "outputs": [
    {
     "name": "stdout",
     "output_type": "stream",
     "text": [
      "Fitting 5 folds for each of 10 candidates, totalling 50 fits\n"
     ]
    },
    {
     "name": "stderr",
     "output_type": "stream",
     "text": [
      "[Parallel(n_jobs=-1)]: Using backend LokyBackend with 8 concurrent workers.\n",
      "[Parallel(n_jobs=-1)]: Done  34 tasks      | elapsed:  1.7min\n",
      "[Parallel(n_jobs=-1)]: Done  50 out of  50 | elapsed:  3.2min finished\n"
     ]
    },
    {
     "data": {
      "text/plain": [
       "RandomizedSearchCV(cv=5, error_score=nan,\n",
       "                   estimator=RandomForestClassifier(bootstrap=True,\n",
       "                                                    ccp_alpha=0.0,\n",
       "                                                    class_weight=None,\n",
       "                                                    criterion='gini',\n",
       "                                                    max_depth=None,\n",
       "                                                    max_features='auto',\n",
       "                                                    max_leaf_nodes=None,\n",
       "                                                    max_samples=None,\n",
       "                                                    min_impurity_decrease=0.0,\n",
       "                                                    min_impurity_split=None,\n",
       "                                                    min_samples_leaf=1,\n",
       "                                                    min_samples_split=2,\n",
       "                                                    min_weight_fraction_leaf=0.0,\n",
       "                                                    n_estimators=100,\n",
       "                                                    n_jobs=None,\n",
       "                                                    oob_score=False,\n",
       "                                                    random_state=None,\n",
       "                                                    verbose=0,\n",
       "                                                    warm_start=False),\n",
       "                   iid='deprecated', n_iter=10, n_jobs=-1,\n",
       "                   param_distributions={'max_depth': [None, 5, 8],\n",
       "                                        'n_estimators': [100, 200, 300, 400,\n",
       "                                                         500]},\n",
       "                   pre_dispatch='2*n_jobs', random_state=42, refit=True,\n",
       "                   return_train_score=False, scoring='f1', verbose=1)"
      ]
     },
     "execution_count": 6,
     "metadata": {},
     "output_type": "execute_result"
    }
   ],
   "source": [
    "random_cv.fit(train, y)"
   ]
  },
  {
   "cell_type": "code",
   "execution_count": 7,
   "metadata": {},
   "outputs": [
    {
     "data": {
      "text/plain": [
       "{'n_estimators': 500, 'max_depth': None}"
      ]
     },
     "execution_count": 7,
     "metadata": {},
     "output_type": "execute_result"
    }
   ],
   "source": [
    "random_cv.best_params_"
   ]
  },
  {
   "cell_type": "code",
   "execution_count": 8,
   "metadata": {},
   "outputs": [
    {
     "data": {
      "text/html": [
       "<div>\n",
       "<style scoped>\n",
       "    .dataframe tbody tr th:only-of-type {\n",
       "        vertical-align: middle;\n",
       "    }\n",
       "\n",
       "    .dataframe tbody tr th {\n",
       "        vertical-align: top;\n",
       "    }\n",
       "\n",
       "    .dataframe thead th {\n",
       "        text-align: right;\n",
       "    }\n",
       "</style>\n",
       "<table border=\"1\" class=\"dataframe\">\n",
       "  <thead>\n",
       "    <tr style=\"text-align: right;\">\n",
       "      <th></th>\n",
       "      <th>mean_fit_time</th>\n",
       "      <th>std_fit_time</th>\n",
       "      <th>mean_score_time</th>\n",
       "      <th>std_score_time</th>\n",
       "      <th>param_n_estimators</th>\n",
       "      <th>param_max_depth</th>\n",
       "      <th>params</th>\n",
       "      <th>split0_test_score</th>\n",
       "      <th>split1_test_score</th>\n",
       "      <th>split2_test_score</th>\n",
       "      <th>split3_test_score</th>\n",
       "      <th>split4_test_score</th>\n",
       "      <th>mean_test_score</th>\n",
       "      <th>std_test_score</th>\n",
       "      <th>rank_test_score</th>\n",
       "    </tr>\n",
       "  </thead>\n",
       "  <tbody>\n",
       "    <tr>\n",
       "      <td>9</td>\n",
       "      <td>53.732882</td>\n",
       "      <td>2.863674</td>\n",
       "      <td>1.643314</td>\n",
       "      <td>0.155076</td>\n",
       "      <td>500</td>\n",
       "      <td>None</td>\n",
       "      <td>{'n_estimators': 500, 'max_depth': None}</td>\n",
       "      <td>0.910129</td>\n",
       "      <td>0.912422</td>\n",
       "      <td>0.921360</td>\n",
       "      <td>1.000000</td>\n",
       "      <td>1.000000</td>\n",
       "      <td>0.948782</td>\n",
       "      <td>0.041987</td>\n",
       "      <td>1</td>\n",
       "    </tr>\n",
       "    <tr>\n",
       "      <td>2</td>\n",
       "      <td>12.023787</td>\n",
       "      <td>0.325723</td>\n",
       "      <td>0.396140</td>\n",
       "      <td>0.023333</td>\n",
       "      <td>100</td>\n",
       "      <td>None</td>\n",
       "      <td>{'n_estimators': 100, 'max_depth': None}</td>\n",
       "      <td>0.911770</td>\n",
       "      <td>0.910983</td>\n",
       "      <td>0.919601</td>\n",
       "      <td>1.000000</td>\n",
       "      <td>1.000000</td>\n",
       "      <td>0.948471</td>\n",
       "      <td>0.042181</td>\n",
       "      <td>2</td>\n",
       "    </tr>\n",
       "    <tr>\n",
       "      <td>6</td>\n",
       "      <td>36.568875</td>\n",
       "      <td>1.090462</td>\n",
       "      <td>1.238862</td>\n",
       "      <td>0.126274</td>\n",
       "      <td>300</td>\n",
       "      <td>None</td>\n",
       "      <td>{'n_estimators': 300, 'max_depth': None}</td>\n",
       "      <td>0.911200</td>\n",
       "      <td>0.911874</td>\n",
       "      <td>0.918970</td>\n",
       "      <td>1.000000</td>\n",
       "      <td>1.000000</td>\n",
       "      <td>0.948409</td>\n",
       "      <td>0.042212</td>\n",
       "      <td>3</td>\n",
       "    </tr>\n",
       "    <tr>\n",
       "      <td>7</td>\n",
       "      <td>24.523626</td>\n",
       "      <td>0.962647</td>\n",
       "      <td>0.785437</td>\n",
       "      <td>0.021989</td>\n",
       "      <td>200</td>\n",
       "      <td>None</td>\n",
       "      <td>{'n_estimators': 200, 'max_depth': None}</td>\n",
       "      <td>0.910425</td>\n",
       "      <td>0.913120</td>\n",
       "      <td>0.917328</td>\n",
       "      <td>1.000000</td>\n",
       "      <td>1.000000</td>\n",
       "      <td>0.948175</td>\n",
       "      <td>0.042372</td>\n",
       "      <td>4</td>\n",
       "    </tr>\n",
       "    <tr>\n",
       "      <td>8</td>\n",
       "      <td>37.210274</td>\n",
       "      <td>1.057962</td>\n",
       "      <td>1.137480</td>\n",
       "      <td>0.030593</td>\n",
       "      <td>500</td>\n",
       "      <td>8</td>\n",
       "      <td>{'n_estimators': 500, 'max_depth': 8}</td>\n",
       "      <td>0.707057</td>\n",
       "      <td>0.716362</td>\n",
       "      <td>0.731197</td>\n",
       "      <td>0.968648</td>\n",
       "      <td>0.961161</td>\n",
       "      <td>0.816885</td>\n",
       "      <td>0.121125</td>\n",
       "      <td>5</td>\n",
       "    </tr>\n",
       "    <tr>\n",
       "      <td>3</td>\n",
       "      <td>28.253515</td>\n",
       "      <td>0.913344</td>\n",
       "      <td>0.918493</td>\n",
       "      <td>0.092337</td>\n",
       "      <td>400</td>\n",
       "      <td>8</td>\n",
       "      <td>{'n_estimators': 400, 'max_depth': 8}</td>\n",
       "      <td>0.706255</td>\n",
       "      <td>0.712261</td>\n",
       "      <td>0.730851</td>\n",
       "      <td>0.970000</td>\n",
       "      <td>0.961027</td>\n",
       "      <td>0.816079</td>\n",
       "      <td>0.122315</td>\n",
       "      <td>6</td>\n",
       "    </tr>\n",
       "    <tr>\n",
       "      <td>1</td>\n",
       "      <td>14.749457</td>\n",
       "      <td>0.442740</td>\n",
       "      <td>0.466707</td>\n",
       "      <td>0.050910</td>\n",
       "      <td>200</td>\n",
       "      <td>8</td>\n",
       "      <td>{'n_estimators': 200, 'max_depth': 8}</td>\n",
       "      <td>0.701449</td>\n",
       "      <td>0.715159</td>\n",
       "      <td>0.728334</td>\n",
       "      <td>0.967876</td>\n",
       "      <td>0.961603</td>\n",
       "      <td>0.814884</td>\n",
       "      <td>0.122667</td>\n",
       "      <td>7</td>\n",
       "    </tr>\n",
       "    <tr>\n",
       "      <td>0</td>\n",
       "      <td>25.126898</td>\n",
       "      <td>0.682287</td>\n",
       "      <td>1.003271</td>\n",
       "      <td>0.114663</td>\n",
       "      <td>500</td>\n",
       "      <td>5</td>\n",
       "      <td>{'n_estimators': 500, 'max_depth': 5}</td>\n",
       "      <td>0.638030</td>\n",
       "      <td>0.656618</td>\n",
       "      <td>0.683696</td>\n",
       "      <td>0.927128</td>\n",
       "      <td>0.931939</td>\n",
       "      <td>0.767482</td>\n",
       "      <td>0.133118</td>\n",
       "      <td>8</td>\n",
       "    </tr>\n",
       "    <tr>\n",
       "      <td>5</td>\n",
       "      <td>20.100957</td>\n",
       "      <td>0.548795</td>\n",
       "      <td>0.680261</td>\n",
       "      <td>0.010312</td>\n",
       "      <td>400</td>\n",
       "      <td>5</td>\n",
       "      <td>{'n_estimators': 400, 'max_depth': 5}</td>\n",
       "      <td>0.640833</td>\n",
       "      <td>0.653937</td>\n",
       "      <td>0.683765</td>\n",
       "      <td>0.932180</td>\n",
       "      <td>0.920227</td>\n",
       "      <td>0.766188</td>\n",
       "      <td>0.131445</td>\n",
       "      <td>9</td>\n",
       "    </tr>\n",
       "    <tr>\n",
       "      <td>4</td>\n",
       "      <td>4.840906</td>\n",
       "      <td>0.078640</td>\n",
       "      <td>0.175930</td>\n",
       "      <td>0.001016</td>\n",
       "      <td>100</td>\n",
       "      <td>5</td>\n",
       "      <td>{'n_estimators': 100, 'max_depth': 5}</td>\n",
       "      <td>0.641212</td>\n",
       "      <td>0.656790</td>\n",
       "      <td>0.682357</td>\n",
       "      <td>0.939642</td>\n",
       "      <td>0.897223</td>\n",
       "      <td>0.763445</td>\n",
       "      <td>0.127932</td>\n",
       "      <td>10</td>\n",
       "    </tr>\n",
       "  </tbody>\n",
       "</table>\n",
       "</div>"
      ],
      "text/plain": [
       "   mean_fit_time  std_fit_time  mean_score_time  std_score_time  \\\n",
       "9      53.732882      2.863674         1.643314        0.155076   \n",
       "2      12.023787      0.325723         0.396140        0.023333   \n",
       "6      36.568875      1.090462         1.238862        0.126274   \n",
       "7      24.523626      0.962647         0.785437        0.021989   \n",
       "8      37.210274      1.057962         1.137480        0.030593   \n",
       "3      28.253515      0.913344         0.918493        0.092337   \n",
       "1      14.749457      0.442740         0.466707        0.050910   \n",
       "0      25.126898      0.682287         1.003271        0.114663   \n",
       "5      20.100957      0.548795         0.680261        0.010312   \n",
       "4       4.840906      0.078640         0.175930        0.001016   \n",
       "\n",
       "  param_n_estimators param_max_depth  \\\n",
       "9                500            None   \n",
       "2                100            None   \n",
       "6                300            None   \n",
       "7                200            None   \n",
       "8                500               8   \n",
       "3                400               8   \n",
       "1                200               8   \n",
       "0                500               5   \n",
       "5                400               5   \n",
       "4                100               5   \n",
       "\n",
       "                                     params  split0_test_score  \\\n",
       "9  {'n_estimators': 500, 'max_depth': None}           0.910129   \n",
       "2  {'n_estimators': 100, 'max_depth': None}           0.911770   \n",
       "6  {'n_estimators': 300, 'max_depth': None}           0.911200   \n",
       "7  {'n_estimators': 200, 'max_depth': None}           0.910425   \n",
       "8     {'n_estimators': 500, 'max_depth': 8}           0.707057   \n",
       "3     {'n_estimators': 400, 'max_depth': 8}           0.706255   \n",
       "1     {'n_estimators': 200, 'max_depth': 8}           0.701449   \n",
       "0     {'n_estimators': 500, 'max_depth': 5}           0.638030   \n",
       "5     {'n_estimators': 400, 'max_depth': 5}           0.640833   \n",
       "4     {'n_estimators': 100, 'max_depth': 5}           0.641212   \n",
       "\n",
       "   split1_test_score  split2_test_score  split3_test_score  split4_test_score  \\\n",
       "9           0.912422           0.921360           1.000000           1.000000   \n",
       "2           0.910983           0.919601           1.000000           1.000000   \n",
       "6           0.911874           0.918970           1.000000           1.000000   \n",
       "7           0.913120           0.917328           1.000000           1.000000   \n",
       "8           0.716362           0.731197           0.968648           0.961161   \n",
       "3           0.712261           0.730851           0.970000           0.961027   \n",
       "1           0.715159           0.728334           0.967876           0.961603   \n",
       "0           0.656618           0.683696           0.927128           0.931939   \n",
       "5           0.653937           0.683765           0.932180           0.920227   \n",
       "4           0.656790           0.682357           0.939642           0.897223   \n",
       "\n",
       "   mean_test_score  std_test_score  rank_test_score  \n",
       "9         0.948782        0.041987                1  \n",
       "2         0.948471        0.042181                2  \n",
       "6         0.948409        0.042212                3  \n",
       "7         0.948175        0.042372                4  \n",
       "8         0.816885        0.121125                5  \n",
       "3         0.816079        0.122315                6  \n",
       "1         0.814884        0.122667                7  \n",
       "0         0.767482        0.133118                8  \n",
       "5         0.766188        0.131445                9  \n",
       "4         0.763445        0.127932               10  "
      ]
     },
     "execution_count": 8,
     "metadata": {},
     "output_type": "execute_result"
    }
   ],
   "source": [
    "pd.DataFrame(random_cv.cv_results_).sort_values(\"rank_test_score\")"
   ]
  },
  {
   "cell_type": "code",
   "execution_count": 9,
   "metadata": {},
   "outputs": [],
   "source": [
    "rf_model = RandomForestClassifier(**random_cv.best_params_)"
   ]
  },
  {
   "cell_type": "code",
   "execution_count": 10,
   "metadata": {},
   "outputs": [],
   "source": [
    "import matplotlib.pyplot as plt\n",
    "# from sklearn.inspection import permutation_importance\n",
    "from sklearn.inspection import permutation_importance"
   ]
  },
  {
   "cell_type": "code",
   "execution_count": 11,
   "metadata": {},
   "outputs": [
    {
     "data": {
      "text/plain": [
       "RandomForestClassifier(bootstrap=True, ccp_alpha=0.0, class_weight=None,\n",
       "                       criterion='gini', max_depth=None, max_features='auto',\n",
       "                       max_leaf_nodes=None, max_samples=None,\n",
       "                       min_impurity_decrease=0.0, min_impurity_split=None,\n",
       "                       min_samples_leaf=1, min_samples_split=2,\n",
       "                       min_weight_fraction_leaf=0.0, n_estimators=500,\n",
       "                       n_jobs=None, oob_score=False, random_state=None,\n",
       "                       verbose=0, warm_start=False)"
      ]
     },
     "execution_count": 11,
     "metadata": {},
     "output_type": "execute_result"
    }
   ],
   "source": [
    "#Make train set with random number column and fit model on that set\n",
    "ptrain = train\n",
    "rand = np.random.RandomState(seed=42)\n",
    "ptrain['random_num'] = rand.randint(ptrain.shape[0])\n",
    "rf_model.fit(ptrain, y)"
   ]
  },
  {
   "cell_type": "code",
   "execution_count": 12,
   "metadata": {},
   "outputs": [],
   "source": [
    "result = permutation_importance(rf_model, train, y, n_repeats=10,\n",
    "                                random_state=42, n_jobs=-1, scoring=\"f1\")"
   ]
  },
  {
   "cell_type": "code",
   "execution_count": 13,
   "metadata": {},
   "outputs": [
    {
     "data": {
      "image/png": "[encoded data removed]",
      "text/plain": [
       "<Figure size 432x288 with 1 Axes>"
      ]
     },
     "metadata": {
      "needs_background": "light"
     },
     "output_type": "display_data"
    }
   ],
   "source": [
    "sorted_idx = result.importances_mean.argsort()\n",
    "\n",
    "fig, ax = plt.subplots()\n",
    "ax.boxplot(result.importances[sorted_idx].T,\n",
    "           vert=False, labels=train.columns[sorted_idx])\n",
    "ax.set_title(\"Permutation Importances of Random Forest Classifier (train set)\")\n",
    "fig.tight_layout()\n",
    "plt.show()"
   ]
  },
  {
   "cell_type": "markdown",
   "metadata": {},
   "source": [
    "### Results\n",
    "Luckily, all features of the model are more important than the random_num column. The large emphasis on speed is also accurate, since my friends told me that gen6 pokemon had a Speed meta. So Speed is pretty OP, and the model caught that nuance. <br>\n",
    "I'm happy that the dataset was well-made and comprehensive enough for someone who doesn't play pokemon like myself to train a model that accurately reflects Gen6 battles. "
   ]
  },
  {
   "cell_type": "code",
   "execution_count": 14,
   "metadata": {},
   "outputs": [
    {
     "data": {
      "text/plain": [
       "RandomForestClassifier(bootstrap=True, ccp_alpha=0.0, class_weight=None,\n",
       "                       criterion='gini', max_depth=None, max_features='auto',\n",
       "                       max_leaf_nodes=None, max_samples=None,\n",
       "                       min_impurity_decrease=0.0, min_impurity_split=None,\n",
       "                       min_samples_leaf=1, min_samples_split=2,\n",
       "                       min_weight_fraction_leaf=0.0, n_estimators=500,\n",
       "                       n_jobs=None, oob_score=False, random_state=None,\n",
       "                       verbose=0, warm_start=False)"
      ]
     },
     "execution_count": 14,
     "metadata": {},
     "output_type": "execute_result"
    }
   ],
   "source": [
    "# Train model and save pkl\n",
    "try:\n",
    "    train.drop(\"random_num\", axis=1, inplace=True)\n",
    "except Exception as e:\n",
    "    print(\"already dropped random_num\")\n",
    "    \n",
    "rf_final = RandomForestClassifier(**random_cv.best_params_)\n",
    "rf_final.fit(train, y)"
   ]
  },
  {
   "cell_type": "code",
   "execution_count": 15,
   "metadata": {},
   "outputs": [],
   "source": [
    "import pickle\n",
    "pickle.dump(rf_final, open(\"model/rf_final.pkl\", 'wb'))"
   ]
  },
  {
   "cell_type": "markdown",
   "metadata": {},
   "source": [
    "### Note: pkl file is too large for some reason so I'm gonna gitignore it"
   ]
  },
  {
   "cell_type": "code",
   "execution_count": null,
   "metadata": {},
   "outputs": [],
   "source": []
  }
 ],
 "metadata": {
  "kernelspec": {
   "display_name": "Python 3",
   "language": "python",
   "name": "python3"
  },
  "language_info": {
   "codemirror_mode": {
    "name": "ipython",
    "version": 3
   },
   "file_extension": ".py",
   "mimetype": "text/x-python",
   "name": "python",
   "nbconvert_exporter": "python",
   "pygments_lexer": "ipython3",
   "version": "3.7.4"
  }
 },
 "nbformat": 4,
 "nbformat_minor": 4
}
