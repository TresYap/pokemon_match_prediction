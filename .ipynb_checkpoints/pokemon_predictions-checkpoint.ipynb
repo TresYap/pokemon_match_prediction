{
 "cells": [
  {
   "cell_type": "markdown",
   "metadata": {},
   "source": [
    "### From ML experiments, as far as models are concerned, RandomForest does really well\n",
    "More than gradient boosting by a bit (but considering gb is a pain to optimize, i'll stick w RF)"
   ]
  },
  {
   "cell_type": "code",
   "execution_count": 37,
   "metadata": {},
   "outputs": [],
   "source": [
    "import pandas as pd\n",
    "import numpy as np\n",
    "from sklearn.ensemble import RandomForestClassifier\n",
    "from sklearn.model_selection import RandomizedSearchCV"
   ]
  },
  {
   "cell_type": "code",
   "execution_count": 38,
   "metadata": {},
   "outputs": [],
   "source": [
    "train = pd.read_csv(\"battles_updated.csv\")\n",
    "test = pd.read_csv(\"tests.csv\")\n",
    "pokemon = pd.read_csv(\"pokemon.csv\")\n",
    "typechart = pd.read_csv(\"chart.csv\")\n",
    "\n",
    "#Drop unnecessary columns\n",
    "try:\n",
    "    drop = [\"first_Type 1\", \"first_Type 2\", \"second_Type 1\", \"second_Type 2\", \"First_pokemon\", \"Second_pokemon\"]\n",
    "    train.drop(drop, axis=1, inplace=True)\n",
    "except Exception as e:\n",
    "    print(e)"
   ]
  },
  {
   "cell_type": "code",
   "execution_count": 39,
   "metadata": {},
   "outputs": [],
   "source": [
    "y = train.outcome\n",
    "train.drop(\"outcome\", axis=1, inplace=True)"
   ]
  },
  {
   "cell_type": "markdown",
   "metadata": {},
   "source": [
    "### Randomized Search CV"
   ]
  },
  {
   "cell_type": "code",
   "execution_count": 40,
   "metadata": {},
   "outputs": [],
   "source": [
    "params = {\n",
    "    \"n_estimators\": [100, 200, 300, 400, 500],\n",
    "    \"max_depth\": [None, 5, 8]\n",
    "}\n",
    "rf_model = RandomForestClassifier()\n",
    "random_cv = RandomizedSearchCV(rf_model, params, random_state=42, cv=5, scoring='f1', n_jobs=-1, verbose=1)"
   ]
  },
  {
   "cell_type": "code",
   "execution_count": 41,
   "metadata": {},
   "outputs": [
    {
     "name": "stdout",
     "output_type": "stream",
     "text": [
      "Fitting 5 folds for each of 10 candidates, totalling 50 fits\n"
     ]
    },
    {
     "name": "stderr",
     "output_type": "stream",
     "text": [
      "[Parallel(n_jobs=-1)]: Using backend LokyBackend with 8 concurrent workers.\n",
      "[Parallel(n_jobs=-1)]: Done  34 tasks      | elapsed:   58.2s\n",
      "[Parallel(n_jobs=-1)]: Done  50 out of  50 | elapsed:  1.7min finished\n"
     ]
    },
    {
     "data": {
      "text/plain": [
       "RandomizedSearchCV(cv=5, error_score=nan,\n",
       "                   estimator=RandomForestClassifier(bootstrap=True,\n",
       "                                                    ccp_alpha=0.0,\n",
       "                                                    class_weight=None,\n",
       "                                                    criterion='gini',\n",
       "                                                    max_depth=None,\n",
       "                                                    max_features='auto',\n",
       "                                                    max_leaf_nodes=None,\n",
       "                                                    max_samples=None,\n",
       "                                                    min_impurity_decrease=0.0,\n",
       "                                                    min_impurity_split=None,\n",
       "                                                    min_samples_leaf=1,\n",
       "                                                    min_samples_split=2,\n",
       "                                                    min_weight_fraction_leaf=0.0,\n",
       "                                                    n_estimators=100,\n",
       "                                                    n_jobs=None,\n",
       "                                                    oob_score=False,\n",
       "                                                    random_state=None,\n",
       "                                                    verbose=0,\n",
       "                                                    warm_start=False),\n",
       "                   iid='deprecated', n_iter=10, n_jobs=-1,\n",
       "                   param_distributions={'max_depth': [None, 5, 8],\n",
       "                                        'n_estimators': [100, 200, 300, 400,\n",
       "                                                         500]},\n",
       "                   pre_dispatch='2*n_jobs', random_state=42, refit=True,\n",
       "                   return_train_score=False, scoring='f1', verbose=1)"
      ]
     },
     "execution_count": 41,
     "metadata": {},
     "output_type": "execute_result"
    }
   ],
   "source": [
    "random_cv.fit(train, y)"
   ]
  },
  {
   "cell_type": "code",
   "execution_count": 42,
   "metadata": {},
   "outputs": [
    {
     "data": {
      "text/plain": [
       "{'n_estimators': 300, 'max_depth': None}"
      ]
     },
     "execution_count": 42,
     "metadata": {},
     "output_type": "execute_result"
    }
   ],
   "source": [
    "random_cv.best_params_"
   ]
  },
  {
   "cell_type": "code",
   "execution_count": 51,
   "metadata": {},
   "outputs": [
    {
     "data": {
      "text/html": [
       "<div>\n",
       "<style scoped>\n",
       "    .dataframe tbody tr th:only-of-type {\n",
       "        vertical-align: middle;\n",
       "    }\n",
       "\n",
       "    .dataframe tbody tr th {\n",
       "        vertical-align: top;\n",
       "    }\n",
       "\n",
       "    .dataframe thead th {\n",
       "        text-align: right;\n",
       "    }\n",
       "</style>\n",
       "<table border=\"1\" class=\"dataframe\">\n",
       "  <thead>\n",
       "    <tr style=\"text-align: right;\">\n",
       "      <th></th>\n",
       "      <th>mean_fit_time</th>\n",
       "      <th>std_fit_time</th>\n",
       "      <th>mean_score_time</th>\n",
       "      <th>std_score_time</th>\n",
       "      <th>param_n_estimators</th>\n",
       "      <th>param_max_depth</th>\n",
       "      <th>params</th>\n",
       "      <th>split0_test_score</th>\n",
       "      <th>split1_test_score</th>\n",
       "      <th>split2_test_score</th>\n",
       "      <th>split3_test_score</th>\n",
       "      <th>split4_test_score</th>\n",
       "      <th>mean_test_score</th>\n",
       "      <th>std_test_score</th>\n",
       "      <th>rank_test_score</th>\n",
       "    </tr>\n",
       "  </thead>\n",
       "  <tbody>\n",
       "    <tr>\n",
       "      <td>6</td>\n",
       "      <td>19.987493</td>\n",
       "      <td>0.318619</td>\n",
       "      <td>0.596377</td>\n",
       "      <td>0.006721</td>\n",
       "      <td>300</td>\n",
       "      <td>None</td>\n",
       "      <td>{'n_estimators': 300, 'max_depth': None}</td>\n",
       "      <td>0.952985</td>\n",
       "      <td>0.951145</td>\n",
       "      <td>0.943994</td>\n",
       "      <td>0.951414</td>\n",
       "      <td>0.938082</td>\n",
       "      <td>0.947524</td>\n",
       "      <td>0.005651</td>\n",
       "      <td>1</td>\n",
       "    </tr>\n",
       "    <tr>\n",
       "      <td>9</td>\n",
       "      <td>27.924974</td>\n",
       "      <td>2.454842</td>\n",
       "      <td>0.722599</td>\n",
       "      <td>0.050753</td>\n",
       "      <td>500</td>\n",
       "      <td>None</td>\n",
       "      <td>{'n_estimators': 500, 'max_depth': None}</td>\n",
       "      <td>0.952212</td>\n",
       "      <td>0.950019</td>\n",
       "      <td>0.943712</td>\n",
       "      <td>0.950361</td>\n",
       "      <td>0.936680</td>\n",
       "      <td>0.946597</td>\n",
       "      <td>0.005729</td>\n",
       "      <td>2</td>\n",
       "    </tr>\n",
       "    <tr>\n",
       "      <td>7</td>\n",
       "      <td>13.419061</td>\n",
       "      <td>0.292979</td>\n",
       "      <td>0.390224</td>\n",
       "      <td>0.005265</td>\n",
       "      <td>200</td>\n",
       "      <td>None</td>\n",
       "      <td>{'n_estimators': 200, 'max_depth': None}</td>\n",
       "      <td>0.952408</td>\n",
       "      <td>0.949379</td>\n",
       "      <td>0.942676</td>\n",
       "      <td>0.951376</td>\n",
       "      <td>0.936591</td>\n",
       "      <td>0.946486</td>\n",
       "      <td>0.005996</td>\n",
       "      <td>3</td>\n",
       "    </tr>\n",
       "    <tr>\n",
       "      <td>2</td>\n",
       "      <td>6.755109</td>\n",
       "      <td>0.122796</td>\n",
       "      <td>0.268619</td>\n",
       "      <td>0.052213</td>\n",
       "      <td>100</td>\n",
       "      <td>None</td>\n",
       "      <td>{'n_estimators': 100, 'max_depth': None}</td>\n",
       "      <td>0.948912</td>\n",
       "      <td>0.950053</td>\n",
       "      <td>0.942130</td>\n",
       "      <td>0.950767</td>\n",
       "      <td>0.936973</td>\n",
       "      <td>0.945767</td>\n",
       "      <td>0.005363</td>\n",
       "      <td>4</td>\n",
       "    </tr>\n",
       "    <tr>\n",
       "      <td>3</td>\n",
       "      <td>16.076887</td>\n",
       "      <td>0.143717</td>\n",
       "      <td>0.492504</td>\n",
       "      <td>0.004541</td>\n",
       "      <td>400</td>\n",
       "      <td>8</td>\n",
       "      <td>{'n_estimators': 400, 'max_depth': 8}</td>\n",
       "      <td>0.936087</td>\n",
       "      <td>0.936073</td>\n",
       "      <td>0.935320</td>\n",
       "      <td>0.940319</td>\n",
       "      <td>0.924133</td>\n",
       "      <td>0.934386</td>\n",
       "      <td>0.005421</td>\n",
       "      <td>5</td>\n",
       "    </tr>\n",
       "    <tr>\n",
       "      <td>8</td>\n",
       "      <td>20.125286</td>\n",
       "      <td>0.267016</td>\n",
       "      <td>0.631861</td>\n",
       "      <td>0.017604</td>\n",
       "      <td>500</td>\n",
       "      <td>8</td>\n",
       "      <td>{'n_estimators': 500, 'max_depth': 8}</td>\n",
       "      <td>0.933903</td>\n",
       "      <td>0.934183</td>\n",
       "      <td>0.935982</td>\n",
       "      <td>0.939428</td>\n",
       "      <td>0.922860</td>\n",
       "      <td>0.933271</td>\n",
       "      <td>0.005565</td>\n",
       "      <td>6</td>\n",
       "    </tr>\n",
       "    <tr>\n",
       "      <td>1</td>\n",
       "      <td>8.153055</td>\n",
       "      <td>0.054661</td>\n",
       "      <td>0.294962</td>\n",
       "      <td>0.037040</td>\n",
       "      <td>200</td>\n",
       "      <td>8</td>\n",
       "      <td>{'n_estimators': 200, 'max_depth': 8}</td>\n",
       "      <td>0.932070</td>\n",
       "      <td>0.933814</td>\n",
       "      <td>0.934516</td>\n",
       "      <td>0.940813</td>\n",
       "      <td>0.922875</td>\n",
       "      <td>0.932818</td>\n",
       "      <td>0.005783</td>\n",
       "      <td>7</td>\n",
       "    </tr>\n",
       "    <tr>\n",
       "      <td>0</td>\n",
       "      <td>13.770589</td>\n",
       "      <td>0.206856</td>\n",
       "      <td>0.516423</td>\n",
       "      <td>0.042933</td>\n",
       "      <td>500</td>\n",
       "      <td>5</td>\n",
       "      <td>{'n_estimators': 500, 'max_depth': 5}</td>\n",
       "      <td>0.906357</td>\n",
       "      <td>0.910574</td>\n",
       "      <td>0.910774</td>\n",
       "      <td>0.918018</td>\n",
       "      <td>0.900896</td>\n",
       "      <td>0.909324</td>\n",
       "      <td>0.005641</td>\n",
       "      <td>8</td>\n",
       "    </tr>\n",
       "    <tr>\n",
       "      <td>4</td>\n",
       "      <td>2.791902</td>\n",
       "      <td>0.135741</td>\n",
       "      <td>0.102028</td>\n",
       "      <td>0.001344</td>\n",
       "      <td>100</td>\n",
       "      <td>5</td>\n",
       "      <td>{'n_estimators': 100, 'max_depth': 5}</td>\n",
       "      <td>0.903821</td>\n",
       "      <td>0.902858</td>\n",
       "      <td>0.915063</td>\n",
       "      <td>0.924240</td>\n",
       "      <td>0.895451</td>\n",
       "      <td>0.908287</td>\n",
       "      <td>0.010145</td>\n",
       "      <td>9</td>\n",
       "    </tr>\n",
       "    <tr>\n",
       "      <td>5</td>\n",
       "      <td>10.513971</td>\n",
       "      <td>0.090494</td>\n",
       "      <td>0.386928</td>\n",
       "      <td>0.003122</td>\n",
       "      <td>400</td>\n",
       "      <td>5</td>\n",
       "      <td>{'n_estimators': 400, 'max_depth': 5}</td>\n",
       "      <td>0.905667</td>\n",
       "      <td>0.907283</td>\n",
       "      <td>0.908617</td>\n",
       "      <td>0.918749</td>\n",
       "      <td>0.899030</td>\n",
       "      <td>0.907869</td>\n",
       "      <td>0.006360</td>\n",
       "      <td>10</td>\n",
       "    </tr>\n",
       "  </tbody>\n",
       "</table>\n",
       "</div>"
      ],
      "text/plain": [
       "   mean_fit_time  std_fit_time  mean_score_time  std_score_time  \\\n",
       "6      19.987493      0.318619         0.596377        0.006721   \n",
       "9      27.924974      2.454842         0.722599        0.050753   \n",
       "7      13.419061      0.292979         0.390224        0.005265   \n",
       "2       6.755109      0.122796         0.268619        0.052213   \n",
       "3      16.076887      0.143717         0.492504        0.004541   \n",
       "8      20.125286      0.267016         0.631861        0.017604   \n",
       "1       8.153055      0.054661         0.294962        0.037040   \n",
       "0      13.770589      0.206856         0.516423        0.042933   \n",
       "4       2.791902      0.135741         0.102028        0.001344   \n",
       "5      10.513971      0.090494         0.386928        0.003122   \n",
       "\n",
       "  param_n_estimators param_max_depth  \\\n",
       "6                300            None   \n",
       "9                500            None   \n",
       "7                200            None   \n",
       "2                100            None   \n",
       "3                400               8   \n",
       "8                500               8   \n",
       "1                200               8   \n",
       "0                500               5   \n",
       "4                100               5   \n",
       "5                400               5   \n",
       "\n",
       "                                     params  split0_test_score  \\\n",
       "6  {'n_estimators': 300, 'max_depth': None}           0.952985   \n",
       "9  {'n_estimators': 500, 'max_depth': None}           0.952212   \n",
       "7  {'n_estimators': 200, 'max_depth': None}           0.952408   \n",
       "2  {'n_estimators': 100, 'max_depth': None}           0.948912   \n",
       "3     {'n_estimators': 400, 'max_depth': 8}           0.936087   \n",
       "8     {'n_estimators': 500, 'max_depth': 8}           0.933903   \n",
       "1     {'n_estimators': 200, 'max_depth': 8}           0.932070   \n",
       "0     {'n_estimators': 500, 'max_depth': 5}           0.906357   \n",
       "4     {'n_estimators': 100, 'max_depth': 5}           0.903821   \n",
       "5     {'n_estimators': 400, 'max_depth': 5}           0.905667   \n",
       "\n",
       "   split1_test_score  split2_test_score  split3_test_score  split4_test_score  \\\n",
       "6           0.951145           0.943994           0.951414           0.938082   \n",
       "9           0.950019           0.943712           0.950361           0.936680   \n",
       "7           0.949379           0.942676           0.951376           0.936591   \n",
       "2           0.950053           0.942130           0.950767           0.936973   \n",
       "3           0.936073           0.935320           0.940319           0.924133   \n",
       "8           0.934183           0.935982           0.939428           0.922860   \n",
       "1           0.933814           0.934516           0.940813           0.922875   \n",
       "0           0.910574           0.910774           0.918018           0.900896   \n",
       "4           0.902858           0.915063           0.924240           0.895451   \n",
       "5           0.907283           0.908617           0.918749           0.899030   \n",
       "\n",
       "   mean_test_score  std_test_score  rank_test_score  \n",
       "6         0.947524        0.005651                1  \n",
       "9         0.946597        0.005729                2  \n",
       "7         0.946486        0.005996                3  \n",
       "2         0.945767        0.005363                4  \n",
       "3         0.934386        0.005421                5  \n",
       "8         0.933271        0.005565                6  \n",
       "1         0.932818        0.005783                7  \n",
       "0         0.909324        0.005641                8  \n",
       "4         0.908287        0.010145                9  \n",
       "5         0.907869        0.006360               10  "
      ]
     },
     "execution_count": 51,
     "metadata": {},
     "output_type": "execute_result"
    }
   ],
   "source": [
    "pd.DataFrame(random_cv.cv_results_).sort_values(\"rank_test_score\")"
   ]
  },
  {
   "cell_type": "code",
   "execution_count": 44,
   "metadata": {},
   "outputs": [],
   "source": [
    "rf_model = RandomForestClassifier(**random_cv.best_params_)"
   ]
  },
  {
   "cell_type": "code",
   "execution_count": 45,
   "metadata": {},
   "outputs": [],
   "source": [
    "import matplotlib.pyplot as plt\n",
    "# from sklearn.inspection import permutation_importance\n",
    "from sklearn.inspection import permutation_importance"
   ]
  },
  {
   "cell_type": "code",
   "execution_count": 46,
   "metadata": {},
   "outputs": [
    {
     "data": {
      "text/plain": [
       "RandomForestClassifier(bootstrap=True, ccp_alpha=0.0, class_weight=None,\n",
       "                       criterion='gini', max_depth=None, max_features='auto',\n",
       "                       max_leaf_nodes=None, max_samples=None,\n",
       "                       min_impurity_decrease=0.0, min_impurity_split=None,\n",
       "                       min_samples_leaf=1, min_samples_split=2,\n",
       "                       min_weight_fraction_leaf=0.0, n_estimators=300,\n",
       "                       n_jobs=None, oob_score=False, random_state=None,\n",
       "                       verbose=0, warm_start=False)"
      ]
     },
     "execution_count": 46,
     "metadata": {},
     "output_type": "execute_result"
    }
   ],
   "source": [
    "#Make train set with random number column and fit model on that set\n",
    "ptrain = train\n",
    "rand = np.random.RandomState(seed=42)\n",
    "ptrain['random_num'] = rand.randint(ptrain.shape[0])\n",
    "rf_model.fit(ptrain, y)"
   ]
  },
  {
   "cell_type": "code",
   "execution_count": 49,
   "metadata": {},
   "outputs": [],
   "source": [
    "result = permutation_importance(rf_model, train, y, n_repeats=10,\n",
    "                                random_state=42, n_jobs=-1, scoring=\"f1\")"
   ]
  },
  {
   "cell_type": "code",
   "execution_count": 50,
   "metadata": {},
   "outputs": [
    {
     "data": {
      "image/png": "[encoded data removed]",
      "text/plain": [
       "<Figure size 432x288 with 1 Axes>"
      ]
     },
     "metadata": {
      "needs_background": "light"
     },
     "output_type": "display_data"
    }
   ],
   "source": [
    "sorted_idx = result.importances_mean.argsort()\n",
    "\n",
    "fig, ax = plt.subplots()\n",
    "ax.boxplot(result.importances[sorted_idx].T,\n",
    "           vert=False, labels=train.columns[sorted_idx])\n",
    "ax.set_title(\"Permutation Importances of Random Forest Classifier (train set)\")\n",
    "fig.tight_layout()\n",
    "plt.show()"
   ]
  },
  {
   "cell_type": "markdown",
   "metadata": {},
   "source": [
    "### Results\n",
    "Luckily, all features of the model are more important than the random_num column. The large emphasis on speed is also accurate, since my friends told me that gen6 pokemon had a Speed meta. So Speed is pretty OP, and the model caught that nuance. <br>\n",
    "I'm happy that the dataset was well-made and comprehensive enough for someone who doesn't play pokemon like myself to train a model that accurately reflects Gen6 battles. "
   ]
  }
 ],
 "metadata": {
  "kernelspec": {
   "display_name": "Python 3",
   "language": "python",
   "name": "python3"
  },
  "language_info": {
   "codemirror_mode": {
    "name": "ipython",
    "version": 3
   },
   "file_extension": ".py",
   "mimetype": "text/x-python",
   "name": "python",
   "nbconvert_exporter": "python",
   "pygments_lexer": "ipython3",
   "version": "3.7.4"
  }
 },
 "nbformat": 4,
 "nbformat_minor": 4
}
