{
 "cells": [
  {
   "cell_type": "markdown",
   "metadata": {},
   "source": [
    "### What do I know so far\n",
    "<li> Dual types do not care about order (grass/poison == poison/grass) </li>\n",
    "<li> Effective types do double damage (from my friend who plays Pokemon) </li>\n",
    "<li> People use BST and Average Stats traditionally to gauge pokemon strength </li>\n",
    "\n",
    "### Things to consider for feature engineering\n",
    "<li> Types </li>\n",
    "<li> BST, indiv stats, or both </li>\n",
    "<li> Future problems: Skills and immunities but I don't want to think about that right now </li>"
   ]
  },
  {
   "cell_type": "code",
   "execution_count": 1,
   "metadata": {},
   "outputs": [],
   "source": [
    "import pandas as pd \n",
    "import numpy as np\n",
    "from tqdm import tqdm"
   ]
  },
  {
   "cell_type": "code",
   "execution_count": 2,
   "metadata": {},
   "outputs": [],
   "source": [
    "combats = pd.read_csv(\"combats.csv\")\n",
    "pokemon = pd.read_csv(\"pokemon.csv\")\n",
    "tests = pd.read_csv(\"tests.csv\")"
   ]
  },
  {
   "cell_type": "code",
   "execution_count": 3,
   "metadata": {},
   "outputs": [],
   "source": [
    "pokemon['Type 2'].fillna(\"No Type\", inplace=True)"
   ]
  },
  {
   "cell_type": "code",
   "execution_count": 4,
   "metadata": {},
   "outputs": [
    {
     "data": {
      "text/html": [
       "<div>\n",
       "<style scoped>\n",
       "    .dataframe tbody tr th:only-of-type {\n",
       "        vertical-align: middle;\n",
       "    }\n",
       "\n",
       "    .dataframe tbody tr th {\n",
       "        vertical-align: top;\n",
       "    }\n",
       "\n",
       "    .dataframe thead th {\n",
       "        text-align: right;\n",
       "    }\n",
       "</style>\n",
       "<table border=\"1\" class=\"dataframe\">\n",
       "  <thead>\n",
       "    <tr style=\"text-align: right;\">\n",
       "      <th></th>\n",
       "      <th>#</th>\n",
       "      <th>Name</th>\n",
       "      <th>Type 1</th>\n",
       "      <th>Type 2</th>\n",
       "      <th>HP</th>\n",
       "      <th>Attack</th>\n",
       "      <th>Defense</th>\n",
       "      <th>Sp. Atk</th>\n",
       "      <th>Sp. Def</th>\n",
       "      <th>Speed</th>\n",
       "      <th>Generation</th>\n",
       "      <th>Legendary</th>\n",
       "    </tr>\n",
       "  </thead>\n",
       "  <tbody>\n",
       "    <tr>\n",
       "      <td>0</td>\n",
       "      <td>1</td>\n",
       "      <td>Bulbasaur</td>\n",
       "      <td>Grass</td>\n",
       "      <td>Poison</td>\n",
       "      <td>45</td>\n",
       "      <td>49</td>\n",
       "      <td>49</td>\n",
       "      <td>65</td>\n",
       "      <td>65</td>\n",
       "      <td>45</td>\n",
       "      <td>1</td>\n",
       "      <td>False</td>\n",
       "    </tr>\n",
       "    <tr>\n",
       "      <td>1</td>\n",
       "      <td>2</td>\n",
       "      <td>Ivysaur</td>\n",
       "      <td>Grass</td>\n",
       "      <td>Poison</td>\n",
       "      <td>60</td>\n",
       "      <td>62</td>\n",
       "      <td>63</td>\n",
       "      <td>80</td>\n",
       "      <td>80</td>\n",
       "      <td>60</td>\n",
       "      <td>1</td>\n",
       "      <td>False</td>\n",
       "    </tr>\n",
       "    <tr>\n",
       "      <td>2</td>\n",
       "      <td>3</td>\n",
       "      <td>Venusaur</td>\n",
       "      <td>Grass</td>\n",
       "      <td>Poison</td>\n",
       "      <td>80</td>\n",
       "      <td>82</td>\n",
       "      <td>83</td>\n",
       "      <td>100</td>\n",
       "      <td>100</td>\n",
       "      <td>80</td>\n",
       "      <td>1</td>\n",
       "      <td>False</td>\n",
       "    </tr>\n",
       "    <tr>\n",
       "      <td>3</td>\n",
       "      <td>4</td>\n",
       "      <td>Mega Venusaur</td>\n",
       "      <td>Grass</td>\n",
       "      <td>Poison</td>\n",
       "      <td>80</td>\n",
       "      <td>100</td>\n",
       "      <td>123</td>\n",
       "      <td>122</td>\n",
       "      <td>120</td>\n",
       "      <td>80</td>\n",
       "      <td>1</td>\n",
       "      <td>False</td>\n",
       "    </tr>\n",
       "    <tr>\n",
       "      <td>4</td>\n",
       "      <td>5</td>\n",
       "      <td>Charmander</td>\n",
       "      <td>Fire</td>\n",
       "      <td>No Type</td>\n",
       "      <td>39</td>\n",
       "      <td>52</td>\n",
       "      <td>43</td>\n",
       "      <td>60</td>\n",
       "      <td>50</td>\n",
       "      <td>65</td>\n",
       "      <td>1</td>\n",
       "      <td>False</td>\n",
       "    </tr>\n",
       "  </tbody>\n",
       "</table>\n",
       "</div>"
      ],
      "text/plain": [
       "   #           Name Type 1   Type 2  HP  Attack  Defense  Sp. Atk  Sp. Def  \\\n",
       "0  1      Bulbasaur  Grass   Poison  45      49       49       65       65   \n",
       "1  2        Ivysaur  Grass   Poison  60      62       63       80       80   \n",
       "2  3       Venusaur  Grass   Poison  80      82       83      100      100   \n",
       "3  4  Mega Venusaur  Grass   Poison  80     100      123      122      120   \n",
       "4  5     Charmander   Fire  No Type  39      52       43       60       50   \n",
       "\n",
       "   Speed  Generation  Legendary  \n",
       "0     45           1      False  \n",
       "1     60           1      False  \n",
       "2     80           1      False  \n",
       "3     80           1      False  \n",
       "4     65           1      False  "
      ]
     },
     "execution_count": 4,
     "metadata": {},
     "output_type": "execute_result"
    }
   ],
   "source": [
    "pokemon.head()"
   ]
  },
  {
   "cell_type": "code",
   "execution_count": 5,
   "metadata": {},
   "outputs": [
    {
     "data": {
      "text/html": [
       "<div>\n",
       "<style scoped>\n",
       "    .dataframe tbody tr th:only-of-type {\n",
       "        vertical-align: middle;\n",
       "    }\n",
       "\n",
       "    .dataframe tbody tr th {\n",
       "        vertical-align: top;\n",
       "    }\n",
       "\n",
       "    .dataframe thead th {\n",
       "        text-align: right;\n",
       "    }\n",
       "</style>\n",
       "<table border=\"1\" class=\"dataframe\">\n",
       "  <thead>\n",
       "    <tr style=\"text-align: right;\">\n",
       "      <th></th>\n",
       "      <th>First_pokemon</th>\n",
       "      <th>Second_pokemon</th>\n",
       "      <th>Winner</th>\n",
       "    </tr>\n",
       "  </thead>\n",
       "  <tbody>\n",
       "    <tr>\n",
       "      <td>0</td>\n",
       "      <td>266</td>\n",
       "      <td>298</td>\n",
       "      <td>298</td>\n",
       "    </tr>\n",
       "    <tr>\n",
       "      <td>1</td>\n",
       "      <td>702</td>\n",
       "      <td>701</td>\n",
       "      <td>701</td>\n",
       "    </tr>\n",
       "    <tr>\n",
       "      <td>2</td>\n",
       "      <td>191</td>\n",
       "      <td>668</td>\n",
       "      <td>668</td>\n",
       "    </tr>\n",
       "    <tr>\n",
       "      <td>3</td>\n",
       "      <td>237</td>\n",
       "      <td>683</td>\n",
       "      <td>683</td>\n",
       "    </tr>\n",
       "    <tr>\n",
       "      <td>4</td>\n",
       "      <td>151</td>\n",
       "      <td>231</td>\n",
       "      <td>151</td>\n",
       "    </tr>\n",
       "  </tbody>\n",
       "</table>\n",
       "</div>"
      ],
      "text/plain": [
       "   First_pokemon  Second_pokemon  Winner\n",
       "0            266             298     298\n",
       "1            702             701     701\n",
       "2            191             668     668\n",
       "3            237             683     683\n",
       "4            151             231     151"
      ]
     },
     "execution_count": 5,
     "metadata": {},
     "output_type": "execute_result"
    }
   ],
   "source": [
    "combats.head()"
   ]
  },
  {
   "cell_type": "code",
   "execution_count": 6,
   "metadata": {},
   "outputs": [],
   "source": [
    "pokemon['bst'] = pokemon['HP'] + pokemon['Attack'] + pokemon['Sp. Atk'] + pokemon['Defense'] + pokemon['Sp. Def'] + pokemon['Speed']   "
   ]
  },
  {
   "cell_type": "code",
   "execution_count": 7,
   "metadata": {},
   "outputs": [
    {
     "data": {
      "text/plain": [
       "<Figure size 640x480 with 1 Axes>"
      ]
     },
     "metadata": {},
     "output_type": "display_data"
    }
   ],
   "source": [
    "import matplotlib.pyplot as plt\n",
    "# Too lazy to make it look cleaner but the point is proven that legendaries have more base stats\n",
    "\n",
    "plt.hist(pokemon[pokemon.Legendary].bst, alpha=0.5, label=\"Legendary\")\n",
    "plt.hist(pokemon[~pokemon.Legendary].bst, alpha=0.5, label=\"Not Legendary\")\n",
    "plt.legend()\n",
    "plt.show()"
   ]
  },
  {
   "cell_type": "markdown",
   "metadata": {},
   "source": [
    "## Preprocessing \n",
    "To do: \n",
    "<li> Merge tables </li>\n",
    "<li> Make prediction column (0 if first pokemon won, else 1) </li>\n",
    "<li> Double attack, sp.atk, defense, sp.def if pokemon is effective against opponent </li>"
   ]
  },
  {
   "cell_type": "code",
   "execution_count": 8,
   "metadata": {},
   "outputs": [],
   "source": [
    "#Drop Generation and Legendary Columns (useless as far as i'm concerned)\n",
    "#Leave names somewhere\n",
    "pokemon_names = pokemon[[\"#\", \"Name\", \"Generation\", \"Legendary\"]]\n",
    "pokemon.drop([\"Name\", \"Generation\", \"Legendary\"], axis=1, inplace=True)\n",
    "pokemon_names.to_csv(\"pokemon_details.csv\")"
   ]
  },
  {
   "cell_type": "code",
   "execution_count": 9,
   "metadata": {},
   "outputs": [],
   "source": [
    "#Merge\n",
    "pokemon1 = pokemon.add_prefix(\"first_\")\n",
    "pokemon2 = pokemon.add_prefix(\"second_\")\n",
    "train = pokemon1.merge(combats, left_on=\"first_#\", right_on=\"First_pokemon\", how=\"inner\")\n",
    "train = pokemon2.merge(train, left_on=\"second_#\", right_on=\"Second_pokemon\", how=\"inner\")"
   ]
  },
  {
   "cell_type": "code",
   "execution_count": 10,
   "metadata": {},
   "outputs": [
    {
     "name": "stderr",
     "output_type": "stream",
     "text": [
      "C:\\Users\\tresyap\\Anaconda3\\lib\\site-packages\\pandas\\core\\indexing.py:205: SettingWithCopyWarning: \n",
      "A value is trying to be set on a copy of a slice from a DataFrame\n",
      "\n",
      "See the caveats in the documentation: http://pandas.pydata.org/pandas-docs/stable/user_guide/indexing.html#returning-a-view-versus-a-copy\n",
      "  self._setitem_with_indexer(indexer, value)\n"
     ]
    }
   ],
   "source": [
    "#Prediction Column\n",
    "#dumbass method\n",
    "\n",
    "train['outcome'] = 0 \n",
    "train.outcome.loc[train.Winner == train.Second_pokemon] = 1"
   ]
  },
  {
   "cell_type": "code",
   "execution_count": 11,
   "metadata": {},
   "outputs": [
    {
     "data": {
      "text/html": [
       "<div>\n",
       "<style scoped>\n",
       "    .dataframe tbody tr th:only-of-type {\n",
       "        vertical-align: middle;\n",
       "    }\n",
       "\n",
       "    .dataframe tbody tr th {\n",
       "        vertical-align: top;\n",
       "    }\n",
       "\n",
       "    .dataframe thead th {\n",
       "        text-align: right;\n",
       "    }\n",
       "</style>\n",
       "<table border=\"1\" class=\"dataframe\">\n",
       "  <thead>\n",
       "    <tr style=\"text-align: right;\">\n",
       "      <th></th>\n",
       "      <th>second_#</th>\n",
       "      <th>second_Type 1</th>\n",
       "      <th>second_Type 2</th>\n",
       "      <th>second_HP</th>\n",
       "      <th>second_Attack</th>\n",
       "      <th>second_Defense</th>\n",
       "      <th>second_Sp. Atk</th>\n",
       "      <th>second_Sp. Def</th>\n",
       "      <th>second_Speed</th>\n",
       "      <th>second_bst</th>\n",
       "      <th>...</th>\n",
       "      <th>first_Attack</th>\n",
       "      <th>first_Defense</th>\n",
       "      <th>first_Sp. Atk</th>\n",
       "      <th>first_Sp. Def</th>\n",
       "      <th>first_Speed</th>\n",
       "      <th>first_bst</th>\n",
       "      <th>First_pokemon</th>\n",
       "      <th>Second_pokemon</th>\n",
       "      <th>Winner</th>\n",
       "      <th>outcome</th>\n",
       "    </tr>\n",
       "  </thead>\n",
       "  <tbody>\n",
       "    <tr>\n",
       "      <td>8958</td>\n",
       "      <td>149</td>\n",
       "      <td>Normal</td>\n",
       "      <td>No Type</td>\n",
       "      <td>65</td>\n",
       "      <td>60</td>\n",
       "      <td>70</td>\n",
       "      <td>85</td>\n",
       "      <td>75</td>\n",
       "      <td>40</td>\n",
       "      <td>395</td>\n",
       "      <td>...</td>\n",
       "      <td>70</td>\n",
       "      <td>40</td>\n",
       "      <td>35</td>\n",
       "      <td>40</td>\n",
       "      <td>60</td>\n",
       "      <td>285</td>\n",
       "      <td>497</td>\n",
       "      <td>149</td>\n",
       "      <td>497</td>\n",
       "      <td>0</td>\n",
       "    </tr>\n",
       "  </tbody>\n",
       "</table>\n",
       "<p>1 rows × 24 columns</p>\n",
       "</div>"
      ],
      "text/plain": [
       "      second_# second_Type 1 second_Type 2  second_HP  second_Attack  \\\n",
       "8958       149        Normal       No Type         65             60   \n",
       "\n",
       "      second_Defense  second_Sp. Atk  second_Sp. Def  second_Speed  \\\n",
       "8958              70              85              75            40   \n",
       "\n",
       "      second_bst  ...  first_Attack first_Defense first_Sp. Atk  \\\n",
       "8958         395  ...            70            40            35   \n",
       "\n",
       "      first_Sp. Def  first_Speed  first_bst  First_pokemon  Second_pokemon  \\\n",
       "8958             40           60        285            497             149   \n",
       "\n",
       "      Winner  outcome  \n",
       "8958     497        0  \n",
       "\n",
       "[1 rows x 24 columns]"
      ]
     },
     "execution_count": 11,
     "metadata": {},
     "output_type": "execute_result"
    }
   ],
   "source": [
    "train.sample(1)"
   ]
  },
  {
   "cell_type": "markdown",
   "metadata": {},
   "source": [
    "More or less balanced set"
   ]
  },
  {
   "cell_type": "code",
   "execution_count": 12,
   "metadata": {},
   "outputs": [
    {
     "data": {
      "text/plain": [
       "1    0.52798\n",
       "0    0.47202\n",
       "Name: outcome, dtype: float64"
      ]
     },
     "execution_count": 12,
     "metadata": {},
     "output_type": "execute_result"
    }
   ],
   "source": [
    "train.outcome.value_counts(normalize=True)"
   ]
  },
  {
   "cell_type": "markdown",
   "metadata": {},
   "source": [
    "# Fuck my life \n",
    "The typechart is important because types drastically affect the flow of a battle. Water is effective against fire, fire to grass, and so on. Instead of making the model infer that type is an important feature, we can use the typechart to adjust the stats of pokemon in the battle. Moreover, this will hopefully help the model train vs standalone type because type is a high cardinality feature with no order and super specific rules (ex. dragon is effective against dragon)."
   ]
  },
  {
   "cell_type": "code",
   "execution_count": 13,
   "metadata": {},
   "outputs": [
    {
     "data": {
      "image/png": "[encoded data removed]",
      "text/plain": [
       "<IPython.core.display.Image object>"
      ]
     },
     "execution_count": 13,
     "metadata": {},
     "output_type": "execute_result"
    }
   ],
   "source": [
    "from IPython.display import Image\n",
    "Image(\"typechart.png\")"
   ]
  },
  {
   "cell_type": "markdown",
   "metadata": {},
   "source": [
    "### I love open source (Type Chart Matrix from: https://github.com/zonination/pokemon-chart/blob/master/chart.csv )"
   ]
  },
  {
   "cell_type": "code",
   "execution_count": 14,
   "metadata": {},
   "outputs": [],
   "source": [
    "#Fix typechart dataframe for my needs\n",
    "typechart = pd.read_csv(\"chart.csv\")\n",
    "\n",
    "typechart['No Type'] = 1.0\n",
    "typechart['Normal'] = typechart.Normal.astype('float64')\n",
    "\n",
    "#add row for no type (why did it take me 15 mins to figure this out when it was this easy)\n",
    "row = np.ones(19).tolist()\n",
    "row.insert(0, \"No Type\")\n",
    "typechart.loc[len(typechart)] = row"
   ]
  },
  {
   "cell_type": "markdown",
   "metadata": {},
   "source": [
    "Calculations: (attack or sp.atk) * (1x2 effectivity matrix) for both pokemon <br>\n",
    "Model: Typechart will only affect attack stat of each pokemon and not attack and defense for first pokemon<br>\n",
    "Rationale: Matrix is not symmetric <br>\n",
    "Ex. Fighting does 2x damage against Normal, but Normal does not do 0.5x damage to Fighting"
   ]
  },
  {
   "cell_type": "code",
   "execution_count": 15,
   "metadata": {},
   "outputs": [],
   "source": [
    "#Drop bst because it has to be recalculated and redundant columns\n",
    "try:\n",
    "    train.drop(\"first_bst\", axis=1, inplace=True)\n",
    "    train.drop(\"second_bst\", axis=1, inplace=True)\n",
    "    train.drop(\"first_#\", axis=1, inplace=True)\n",
    "    train.drop(\"second_#\", axis=1, inplace=True)\n",
    "    train.drop(\"Winner\", axis=1, inplace=True)\n",
    "except Exception as e:\n",
    "    print(\"Column already deleted\")"
   ]
  },
  {
   "cell_type": "code",
   "execution_count": 16,
   "metadata": {},
   "outputs": [
    {
     "data": {
      "text/html": [
       "<div>\n",
       "<style scoped>\n",
       "    .dataframe tbody tr th:only-of-type {\n",
       "        vertical-align: middle;\n",
       "    }\n",
       "\n",
       "    .dataframe tbody tr th {\n",
       "        vertical-align: top;\n",
       "    }\n",
       "\n",
       "    .dataframe thead th {\n",
       "        text-align: right;\n",
       "    }\n",
       "</style>\n",
       "<table border=\"1\" class=\"dataframe\">\n",
       "  <thead>\n",
       "    <tr style=\"text-align: right;\">\n",
       "      <th></th>\n",
       "      <th>second_Type 1</th>\n",
       "      <th>second_Type 2</th>\n",
       "      <th>second_HP</th>\n",
       "      <th>second_Attack</th>\n",
       "      <th>second_Defense</th>\n",
       "      <th>second_Sp. Atk</th>\n",
       "      <th>second_Sp. Def</th>\n",
       "      <th>second_Speed</th>\n",
       "      <th>first_Type 1</th>\n",
       "      <th>first_Type 2</th>\n",
       "      <th>first_HP</th>\n",
       "      <th>first_Attack</th>\n",
       "      <th>first_Defense</th>\n",
       "      <th>first_Sp. Atk</th>\n",
       "      <th>first_Sp. Def</th>\n",
       "      <th>first_Speed</th>\n",
       "      <th>First_pokemon</th>\n",
       "      <th>Second_pokemon</th>\n",
       "      <th>outcome</th>\n",
       "    </tr>\n",
       "  </thead>\n",
       "  <tbody>\n",
       "    <tr>\n",
       "      <td>0</td>\n",
       "      <td>Grass</td>\n",
       "      <td>Poison</td>\n",
       "      <td>45</td>\n",
       "      <td>49</td>\n",
       "      <td>49</td>\n",
       "      <td>65</td>\n",
       "      <td>65</td>\n",
       "      <td>45</td>\n",
       "      <td>Normal</td>\n",
       "      <td>Flying</td>\n",
       "      <td>40</td>\n",
       "      <td>45</td>\n",
       "      <td>40</td>\n",
       "      <td>35</td>\n",
       "      <td>35</td>\n",
       "      <td>56</td>\n",
       "      <td>21</td>\n",
       "      <td>1</td>\n",
       "      <td>0</td>\n",
       "    </tr>\n",
       "    <tr>\n",
       "      <td>1</td>\n",
       "      <td>Grass</td>\n",
       "      <td>Poison</td>\n",
       "      <td>45</td>\n",
       "      <td>49</td>\n",
       "      <td>49</td>\n",
       "      <td>65</td>\n",
       "      <td>65</td>\n",
       "      <td>45</td>\n",
       "      <td>Normal</td>\n",
       "      <td>No Type</td>\n",
       "      <td>30</td>\n",
       "      <td>56</td>\n",
       "      <td>35</td>\n",
       "      <td>25</td>\n",
       "      <td>35</td>\n",
       "      <td>72</td>\n",
       "      <td>25</td>\n",
       "      <td>1</td>\n",
       "      <td>0</td>\n",
       "    </tr>\n",
       "    <tr>\n",
       "      <td>2</td>\n",
       "      <td>Grass</td>\n",
       "      <td>Poison</td>\n",
       "      <td>45</td>\n",
       "      <td>49</td>\n",
       "      <td>49</td>\n",
       "      <td>65</td>\n",
       "      <td>65</td>\n",
       "      <td>45</td>\n",
       "      <td>Grass</td>\n",
       "      <td>Poison</td>\n",
       "      <td>60</td>\n",
       "      <td>65</td>\n",
       "      <td>70</td>\n",
       "      <td>85</td>\n",
       "      <td>75</td>\n",
       "      <td>40</td>\n",
       "      <td>50</td>\n",
       "      <td>1</td>\n",
       "      <td>1</td>\n",
       "    </tr>\n",
       "    <tr>\n",
       "      <td>3</td>\n",
       "      <td>Grass</td>\n",
       "      <td>Poison</td>\n",
       "      <td>45</td>\n",
       "      <td>49</td>\n",
       "      <td>49</td>\n",
       "      <td>65</td>\n",
       "      <td>65</td>\n",
       "      <td>45</td>\n",
       "      <td>Fire</td>\n",
       "      <td>No Type</td>\n",
       "      <td>55</td>\n",
       "      <td>70</td>\n",
       "      <td>45</td>\n",
       "      <td>70</td>\n",
       "      <td>50</td>\n",
       "      <td>60</td>\n",
       "      <td>64</td>\n",
       "      <td>1</td>\n",
       "      <td>0</td>\n",
       "    </tr>\n",
       "    <tr>\n",
       "      <td>4</td>\n",
       "      <td>Grass</td>\n",
       "      <td>Poison</td>\n",
       "      <td>45</td>\n",
       "      <td>49</td>\n",
       "      <td>49</td>\n",
       "      <td>65</td>\n",
       "      <td>65</td>\n",
       "      <td>45</td>\n",
       "      <td>Grass</td>\n",
       "      <td>Poison</td>\n",
       "      <td>50</td>\n",
       "      <td>75</td>\n",
       "      <td>35</td>\n",
       "      <td>70</td>\n",
       "      <td>30</td>\n",
       "      <td>40</td>\n",
       "      <td>76</td>\n",
       "      <td>1</td>\n",
       "      <td>1</td>\n",
       "    </tr>\n",
       "  </tbody>\n",
       "</table>\n",
       "</div>"
      ],
      "text/plain": [
       "  second_Type 1 second_Type 2  second_HP  second_Attack  second_Defense  \\\n",
       "0         Grass        Poison         45             49              49   \n",
       "1         Grass        Poison         45             49              49   \n",
       "2         Grass        Poison         45             49              49   \n",
       "3         Grass        Poison         45             49              49   \n",
       "4         Grass        Poison         45             49              49   \n",
       "\n",
       "   second_Sp. Atk  second_Sp. Def  second_Speed first_Type 1 first_Type 2  \\\n",
       "0              65              65            45       Normal       Flying   \n",
       "1              65              65            45       Normal      No Type   \n",
       "2              65              65            45        Grass       Poison   \n",
       "3              65              65            45         Fire      No Type   \n",
       "4              65              65            45        Grass       Poison   \n",
       "\n",
       "   first_HP  first_Attack  first_Defense  first_Sp. Atk  first_Sp. Def  \\\n",
       "0        40            45             40             35             35   \n",
       "1        30            56             35             25             35   \n",
       "2        60            65             70             85             75   \n",
       "3        55            70             45             70             50   \n",
       "4        50            75             35             70             30   \n",
       "\n",
       "   first_Speed  First_pokemon  Second_pokemon  outcome  \n",
       "0           56             21               1        0  \n",
       "1           72             25               1        0  \n",
       "2           40             50               1        1  \n",
       "3           60             64               1        0  \n",
       "4           40             76               1        1  "
      ]
     },
     "execution_count": 16,
     "metadata": {},
     "output_type": "execute_result"
    }
   ],
   "source": [
    "train.head()"
   ]
  },
  {
   "cell_type": "markdown",
   "metadata": {},
   "source": [
    "### Figure out how to optimize this \n",
    "In an effort to squash the influence speed has on the dataset, and make it easier to train, I changed the features from first stats and second stats to just the difference between each stat. If stat difference is < 0, then that means the first pokemon has an advantage in that stat. If the stat difference is > 0, then the second pokemon has an advantage in that stat. Ultimately, speed was squashed, but not enough. Model f1 score was slightly improved, and permutation importance is faster because there are less columns, so it's good to keep."
   ]
  },
  {
   "cell_type": "code",
   "execution_count": 17,
   "metadata": {},
   "outputs": [
    {
     "name": "stderr",
     "output_type": "stream",
     "text": [
      "50000it [06:17, 132.50it/s]\n"
     ]
    }
   ],
   "source": [
    "#Multiply atk and sp atk by the specified values in the typechart\n",
    "train['first_Multiplier'] = 1.0\n",
    "train['second_Multiplier'] = 1.0\n",
    "\n",
    "train['type_interaction'] = 0.0\n",
    "\n",
    "for idx, _ in tqdm(enumerate(train.iterrows())):\n",
    "    first_multiplier = typechart.loc[(typechart.Attacking == train.iloc[idx][\"first_Type 1\"]) | (typechart.Attacking == train.iloc[idx][\"first_Type 2\"])][train.iloc[idx][\"second_Type 1\"]].prod() * typechart.loc[(typechart.Attacking == train.iloc[idx][\"first_Type 1\"]) | (typechart.Attacking == train.iloc[idx][\"first_Type 2\"])][train.iloc[idx][\"second_Type 2\"]].prod()\n",
    "    second_multiplier = typechart.loc[(typechart.Attacking == train.iloc[idx][\"second_Type 1\"]) | (typechart.Attacking == train.iloc[idx][\"second_Type 2\"])][train.iloc[idx][\"first_Type 1\"]].prod() * typechart.loc[(typechart.Attacking == train.iloc[idx][\"second_Type 1\"]) | (typechart.Attacking == train.iloc[idx][\"second_Type 2\"])][train.iloc[idx][\"first_Type 2\"]].prod()\n",
    "    \n",
    "    train.at[idx, 'first_Multiplier'] = first_multiplier\n",
    "    train.at[idx, 'second_Multiplier'] = second_multiplier\n",
    "\n",
    "    train.at[idx, 'type_interaction'] = second_multiplier - first_multiplier\n",
    "        \n",
    "    train.at[idx, 'first_Attack'] = train.iloc[idx].first_Attack * first_multiplier\n",
    "    train.at[idx, 'first_Sp. Atk'] = train.iloc[idx]['first_Sp. Atk'] * first_multiplier\n",
    "    \n",
    "    train.at[idx, 'second_Attack'] = train.iloc[idx].second_Attack * second_multiplier\n",
    "    train.at[idx, 'second_Sp. Atk'] = train.iloc[idx]['second_Sp. Atk'] * second_multiplier\n",
    "\n",
    "train['calc_speed'] = train['second_Speed'] - train['first_Speed'] \n",
    "train['calc_atk'] = train['second_Attack'] - train['first_Attack']\n",
    "train['calc_def'] = train['second_Defense'] - train['first_Defense']\n",
    "train['calc_spatk'] = train['second_Sp. Atk'] - train['first_Sp. Atk']\n",
    "train['calc_spdef'] = train['second_Sp. Def'] - train['first_Sp. Def']"
   ]
  },
  {
   "cell_type": "code",
   "execution_count": 18,
   "metadata": {},
   "outputs": [
    {
     "data": {
      "text/html": [
       "<div>\n",
       "<style scoped>\n",
       "    .dataframe tbody tr th:only-of-type {\n",
       "        vertical-align: middle;\n",
       "    }\n",
       "\n",
       "    .dataframe tbody tr th {\n",
       "        vertical-align: top;\n",
       "    }\n",
       "\n",
       "    .dataframe thead th {\n",
       "        text-align: right;\n",
       "    }\n",
       "</style>\n",
       "<table border=\"1\" class=\"dataframe\">\n",
       "  <thead>\n",
       "    <tr style=\"text-align: right;\">\n",
       "      <th></th>\n",
       "      <th>second_Type 1</th>\n",
       "      <th>second_Type 2</th>\n",
       "      <th>second_HP</th>\n",
       "      <th>second_Attack</th>\n",
       "      <th>second_Defense</th>\n",
       "      <th>second_Sp. Atk</th>\n",
       "      <th>second_Sp. Def</th>\n",
       "      <th>second_Speed</th>\n",
       "      <th>first_Type 1</th>\n",
       "      <th>first_Type 2</th>\n",
       "      <th>...</th>\n",
       "      <th>Second_pokemon</th>\n",
       "      <th>outcome</th>\n",
       "      <th>first_Multiplier</th>\n",
       "      <th>second_Multiplier</th>\n",
       "      <th>type_interaction</th>\n",
       "      <th>calc_speed</th>\n",
       "      <th>calc_atk</th>\n",
       "      <th>calc_def</th>\n",
       "      <th>calc_spatk</th>\n",
       "      <th>calc_spdef</th>\n",
       "    </tr>\n",
       "  </thead>\n",
       "  <tbody>\n",
       "    <tr>\n",
       "      <td>0</td>\n",
       "      <td>Grass</td>\n",
       "      <td>Poison</td>\n",
       "      <td>45</td>\n",
       "      <td>24</td>\n",
       "      <td>49</td>\n",
       "      <td>32</td>\n",
       "      <td>65</td>\n",
       "      <td>45</td>\n",
       "      <td>Normal</td>\n",
       "      <td>Flying</td>\n",
       "      <td>...</td>\n",
       "      <td>1</td>\n",
       "      <td>0</td>\n",
       "      <td>2.00</td>\n",
       "      <td>0.50</td>\n",
       "      <td>-1.50</td>\n",
       "      <td>-11</td>\n",
       "      <td>-66</td>\n",
       "      <td>9</td>\n",
       "      <td>-38</td>\n",
       "      <td>30</td>\n",
       "    </tr>\n",
       "    <tr>\n",
       "      <td>1</td>\n",
       "      <td>Grass</td>\n",
       "      <td>Poison</td>\n",
       "      <td>45</td>\n",
       "      <td>49</td>\n",
       "      <td>49</td>\n",
       "      <td>65</td>\n",
       "      <td>65</td>\n",
       "      <td>45</td>\n",
       "      <td>Normal</td>\n",
       "      <td>No Type</td>\n",
       "      <td>...</td>\n",
       "      <td>1</td>\n",
       "      <td>0</td>\n",
       "      <td>1.00</td>\n",
       "      <td>1.00</td>\n",
       "      <td>0.00</td>\n",
       "      <td>-27</td>\n",
       "      <td>-7</td>\n",
       "      <td>14</td>\n",
       "      <td>40</td>\n",
       "      <td>30</td>\n",
       "    </tr>\n",
       "    <tr>\n",
       "      <td>2</td>\n",
       "      <td>Grass</td>\n",
       "      <td>Poison</td>\n",
       "      <td>45</td>\n",
       "      <td>12</td>\n",
       "      <td>49</td>\n",
       "      <td>16</td>\n",
       "      <td>65</td>\n",
       "      <td>45</td>\n",
       "      <td>Grass</td>\n",
       "      <td>Poison</td>\n",
       "      <td>...</td>\n",
       "      <td>1</td>\n",
       "      <td>1</td>\n",
       "      <td>0.25</td>\n",
       "      <td>0.25</td>\n",
       "      <td>0.00</td>\n",
       "      <td>5</td>\n",
       "      <td>-4</td>\n",
       "      <td>-21</td>\n",
       "      <td>-5</td>\n",
       "      <td>-10</td>\n",
       "    </tr>\n",
       "    <tr>\n",
       "      <td>3</td>\n",
       "      <td>Grass</td>\n",
       "      <td>Poison</td>\n",
       "      <td>45</td>\n",
       "      <td>24</td>\n",
       "      <td>49</td>\n",
       "      <td>32</td>\n",
       "      <td>65</td>\n",
       "      <td>45</td>\n",
       "      <td>Fire</td>\n",
       "      <td>No Type</td>\n",
       "      <td>...</td>\n",
       "      <td>1</td>\n",
       "      <td>0</td>\n",
       "      <td>2.00</td>\n",
       "      <td>0.50</td>\n",
       "      <td>-1.50</td>\n",
       "      <td>-15</td>\n",
       "      <td>-116</td>\n",
       "      <td>4</td>\n",
       "      <td>-108</td>\n",
       "      <td>15</td>\n",
       "    </tr>\n",
       "    <tr>\n",
       "      <td>4</td>\n",
       "      <td>Grass</td>\n",
       "      <td>Poison</td>\n",
       "      <td>45</td>\n",
       "      <td>12</td>\n",
       "      <td>49</td>\n",
       "      <td>16</td>\n",
       "      <td>65</td>\n",
       "      <td>45</td>\n",
       "      <td>Grass</td>\n",
       "      <td>Poison</td>\n",
       "      <td>...</td>\n",
       "      <td>1</td>\n",
       "      <td>1</td>\n",
       "      <td>0.25</td>\n",
       "      <td>0.25</td>\n",
       "      <td>0.00</td>\n",
       "      <td>5</td>\n",
       "      <td>-6</td>\n",
       "      <td>14</td>\n",
       "      <td>-1</td>\n",
       "      <td>35</td>\n",
       "    </tr>\n",
       "    <tr>\n",
       "      <td>...</td>\n",
       "      <td>...</td>\n",
       "      <td>...</td>\n",
       "      <td>...</td>\n",
       "      <td>...</td>\n",
       "      <td>...</td>\n",
       "      <td>...</td>\n",
       "      <td>...</td>\n",
       "      <td>...</td>\n",
       "      <td>...</td>\n",
       "      <td>...</td>\n",
       "      <td>...</td>\n",
       "      <td>...</td>\n",
       "      <td>...</td>\n",
       "      <td>...</td>\n",
       "      <td>...</td>\n",
       "      <td>...</td>\n",
       "      <td>...</td>\n",
       "      <td>...</td>\n",
       "      <td>...</td>\n",
       "      <td>...</td>\n",
       "      <td>...</td>\n",
       "    </tr>\n",
       "    <tr>\n",
       "      <td>49995</td>\n",
       "      <td>Fire</td>\n",
       "      <td>Water</td>\n",
       "      <td>80</td>\n",
       "      <td>220</td>\n",
       "      <td>120</td>\n",
       "      <td>260</td>\n",
       "      <td>90</td>\n",
       "      <td>70</td>\n",
       "      <td>Bug</td>\n",
       "      <td>Flying</td>\n",
       "      <td>...</td>\n",
       "      <td>800</td>\n",
       "      <td>0</td>\n",
       "      <td>0.50</td>\n",
       "      <td>2.00</td>\n",
       "      <td>1.50</td>\n",
       "      <td>-19</td>\n",
       "      <td>194</td>\n",
       "      <td>70</td>\n",
       "      <td>215</td>\n",
       "      <td>40</td>\n",
       "    </tr>\n",
       "    <tr>\n",
       "      <td>49996</td>\n",
       "      <td>Fire</td>\n",
       "      <td>Water</td>\n",
       "      <td>80</td>\n",
       "      <td>27</td>\n",
       "      <td>120</td>\n",
       "      <td>32</td>\n",
       "      <td>90</td>\n",
       "      <td>70</td>\n",
       "      <td>Poison</td>\n",
       "      <td>Water</td>\n",
       "      <td>...</td>\n",
       "      <td>800</td>\n",
       "      <td>1</td>\n",
       "      <td>1.00</td>\n",
       "      <td>0.25</td>\n",
       "      <td>-0.75</td>\n",
       "      <td>40</td>\n",
       "      <td>-33</td>\n",
       "      <td>60</td>\n",
       "      <td>-28</td>\n",
       "      <td>30</td>\n",
       "    </tr>\n",
       "    <tr>\n",
       "      <td>49997</td>\n",
       "      <td>Fire</td>\n",
       "      <td>Water</td>\n",
       "      <td>80</td>\n",
       "      <td>27</td>\n",
       "      <td>120</td>\n",
       "      <td>32</td>\n",
       "      <td>90</td>\n",
       "      <td>70</td>\n",
       "      <td>Poison</td>\n",
       "      <td>Water</td>\n",
       "      <td>...</td>\n",
       "      <td>800</td>\n",
       "      <td>1</td>\n",
       "      <td>1.00</td>\n",
       "      <td>0.25</td>\n",
       "      <td>-0.75</td>\n",
       "      <td>40</td>\n",
       "      <td>-33</td>\n",
       "      <td>60</td>\n",
       "      <td>-28</td>\n",
       "      <td>30</td>\n",
       "    </tr>\n",
       "    <tr>\n",
       "      <td>49998</td>\n",
       "      <td>Fire</td>\n",
       "      <td>Water</td>\n",
       "      <td>80</td>\n",
       "      <td>27</td>\n",
       "      <td>120</td>\n",
       "      <td>32</td>\n",
       "      <td>90</td>\n",
       "      <td>70</td>\n",
       "      <td>Dragon</td>\n",
       "      <td>No Type</td>\n",
       "      <td>...</td>\n",
       "      <td>800</td>\n",
       "      <td>1</td>\n",
       "      <td>1.00</td>\n",
       "      <td>0.25</td>\n",
       "      <td>-0.75</td>\n",
       "      <td>10</td>\n",
       "      <td>-48</td>\n",
       "      <td>67</td>\n",
       "      <td>-51</td>\n",
       "      <td>-23</td>\n",
       "    </tr>\n",
       "    <tr>\n",
       "      <td>49999</td>\n",
       "      <td>Fire</td>\n",
       "      <td>Water</td>\n",
       "      <td>80</td>\n",
       "      <td>110</td>\n",
       "      <td>120</td>\n",
       "      <td>130</td>\n",
       "      <td>90</td>\n",
       "      <td>70</td>\n",
       "      <td>Ghost</td>\n",
       "      <td>Grass</td>\n",
       "      <td>...</td>\n",
       "      <td>800</td>\n",
       "      <td>1</td>\n",
       "      <td>1.00</td>\n",
       "      <td>1.00</td>\n",
       "      <td>0.00</td>\n",
       "      <td>29</td>\n",
       "      <td>44</td>\n",
       "      <td>50</td>\n",
       "      <td>86</td>\n",
       "      <td>35</td>\n",
       "    </tr>\n",
       "  </tbody>\n",
       "</table>\n",
       "<p>50000 rows × 27 columns</p>\n",
       "</div>"
      ],
      "text/plain": [
       "      second_Type 1 second_Type 2  second_HP  second_Attack  second_Defense  \\\n",
       "0             Grass        Poison         45             24              49   \n",
       "1             Grass        Poison         45             49              49   \n",
       "2             Grass        Poison         45             12              49   \n",
       "3             Grass        Poison         45             24              49   \n",
       "4             Grass        Poison         45             12              49   \n",
       "...             ...           ...        ...            ...             ...   \n",
       "49995          Fire         Water         80            220             120   \n",
       "49996          Fire         Water         80             27             120   \n",
       "49997          Fire         Water         80             27             120   \n",
       "49998          Fire         Water         80             27             120   \n",
       "49999          Fire         Water         80            110             120   \n",
       "\n",
       "       second_Sp. Atk  second_Sp. Def  second_Speed first_Type 1 first_Type 2  \\\n",
       "0                  32              65            45       Normal       Flying   \n",
       "1                  65              65            45       Normal      No Type   \n",
       "2                  16              65            45        Grass       Poison   \n",
       "3                  32              65            45         Fire      No Type   \n",
       "4                  16              65            45        Grass       Poison   \n",
       "...               ...             ...           ...          ...          ...   \n",
       "49995             260              90            70          Bug       Flying   \n",
       "49996              32              90            70       Poison        Water   \n",
       "49997              32              90            70       Poison        Water   \n",
       "49998              32              90            70       Dragon      No Type   \n",
       "49999             130              90            70        Ghost        Grass   \n",
       "\n",
       "       ...  Second_pokemon  outcome  first_Multiplier  second_Multiplier  \\\n",
       "0      ...               1        0              2.00               0.50   \n",
       "1      ...               1        0              1.00               1.00   \n",
       "2      ...               1        1              0.25               0.25   \n",
       "3      ...               1        0              2.00               0.50   \n",
       "4      ...               1        1              0.25               0.25   \n",
       "...    ...             ...      ...               ...                ...   \n",
       "49995  ...             800        0              0.50               2.00   \n",
       "49996  ...             800        1              1.00               0.25   \n",
       "49997  ...             800        1              1.00               0.25   \n",
       "49998  ...             800        1              1.00               0.25   \n",
       "49999  ...             800        1              1.00               1.00   \n",
       "\n",
       "       type_interaction  calc_speed  calc_atk  calc_def  calc_spatk  \\\n",
       "0                 -1.50         -11       -66         9         -38   \n",
       "1                  0.00         -27        -7        14          40   \n",
       "2                  0.00           5        -4       -21          -5   \n",
       "3                 -1.50         -15      -116         4        -108   \n",
       "4                  0.00           5        -6        14          -1   \n",
       "...                 ...         ...       ...       ...         ...   \n",
       "49995              1.50         -19       194        70         215   \n",
       "49996             -0.75          40       -33        60         -28   \n",
       "49997             -0.75          40       -33        60         -28   \n",
       "49998             -0.75          10       -48        67         -51   \n",
       "49999              0.00          29        44        50          86   \n",
       "\n",
       "       calc_spdef  \n",
       "0              30  \n",
       "1              30  \n",
       "2             -10  \n",
       "3              15  \n",
       "4              35  \n",
       "...           ...  \n",
       "49995          40  \n",
       "49996          30  \n",
       "49997          30  \n",
       "49998         -23  \n",
       "49999          35  \n",
       "\n",
       "[50000 rows x 27 columns]"
      ]
     },
     "execution_count": 18,
     "metadata": {},
     "output_type": "execute_result"
    }
   ],
   "source": [
    "train"
   ]
  },
  {
   "cell_type": "code",
   "execution_count": 19,
   "metadata": {},
   "outputs": [],
   "source": [
    "train.drop(list(train.filter(regex = 'first_')), axis = 1, inplace = True)\n",
    "train.drop(list(train.filter(regex = 'second_')), axis = 1, inplace = True)"
   ]
  },
  {
   "cell_type": "code",
   "execution_count": 20,
   "metadata": {},
   "outputs": [
    {
     "data": {
      "text/html": [
       "<div>\n",
       "<style scoped>\n",
       "    .dataframe tbody tr th:only-of-type {\n",
       "        vertical-align: middle;\n",
       "    }\n",
       "\n",
       "    .dataframe tbody tr th {\n",
       "        vertical-align: top;\n",
       "    }\n",
       "\n",
       "    .dataframe thead th {\n",
       "        text-align: right;\n",
       "    }\n",
       "</style>\n",
       "<table border=\"1\" class=\"dataframe\">\n",
       "  <thead>\n",
       "    <tr style=\"text-align: right;\">\n",
       "      <th></th>\n",
       "      <th>First_pokemon</th>\n",
       "      <th>Second_pokemon</th>\n",
       "      <th>outcome</th>\n",
       "      <th>type_interaction</th>\n",
       "      <th>calc_speed</th>\n",
       "      <th>calc_atk</th>\n",
       "      <th>calc_def</th>\n",
       "      <th>calc_spatk</th>\n",
       "      <th>calc_spdef</th>\n",
       "    </tr>\n",
       "  </thead>\n",
       "  <tbody>\n",
       "    <tr>\n",
       "      <td>0</td>\n",
       "      <td>21</td>\n",
       "      <td>1</td>\n",
       "      <td>0</td>\n",
       "      <td>-1.50</td>\n",
       "      <td>-11</td>\n",
       "      <td>-66</td>\n",
       "      <td>9</td>\n",
       "      <td>-38</td>\n",
       "      <td>30</td>\n",
       "    </tr>\n",
       "    <tr>\n",
       "      <td>1</td>\n",
       "      <td>25</td>\n",
       "      <td>1</td>\n",
       "      <td>0</td>\n",
       "      <td>0.00</td>\n",
       "      <td>-27</td>\n",
       "      <td>-7</td>\n",
       "      <td>14</td>\n",
       "      <td>40</td>\n",
       "      <td>30</td>\n",
       "    </tr>\n",
       "    <tr>\n",
       "      <td>2</td>\n",
       "      <td>50</td>\n",
       "      <td>1</td>\n",
       "      <td>1</td>\n",
       "      <td>0.00</td>\n",
       "      <td>5</td>\n",
       "      <td>-4</td>\n",
       "      <td>-21</td>\n",
       "      <td>-5</td>\n",
       "      <td>-10</td>\n",
       "    </tr>\n",
       "    <tr>\n",
       "      <td>3</td>\n",
       "      <td>64</td>\n",
       "      <td>1</td>\n",
       "      <td>0</td>\n",
       "      <td>-1.50</td>\n",
       "      <td>-15</td>\n",
       "      <td>-116</td>\n",
       "      <td>4</td>\n",
       "      <td>-108</td>\n",
       "      <td>15</td>\n",
       "    </tr>\n",
       "    <tr>\n",
       "      <td>4</td>\n",
       "      <td>76</td>\n",
       "      <td>1</td>\n",
       "      <td>1</td>\n",
       "      <td>0.00</td>\n",
       "      <td>5</td>\n",
       "      <td>-6</td>\n",
       "      <td>14</td>\n",
       "      <td>-1</td>\n",
       "      <td>35</td>\n",
       "    </tr>\n",
       "    <tr>\n",
       "      <td>...</td>\n",
       "      <td>...</td>\n",
       "      <td>...</td>\n",
       "      <td>...</td>\n",
       "      <td>...</td>\n",
       "      <td>...</td>\n",
       "      <td>...</td>\n",
       "      <td>...</td>\n",
       "      <td>...</td>\n",
       "      <td>...</td>\n",
       "    </tr>\n",
       "    <tr>\n",
       "      <td>49995</td>\n",
       "      <td>735</td>\n",
       "      <td>800</td>\n",
       "      <td>0</td>\n",
       "      <td>1.50</td>\n",
       "      <td>-19</td>\n",
       "      <td>194</td>\n",
       "      <td>70</td>\n",
       "      <td>215</td>\n",
       "      <td>40</td>\n",
       "    </tr>\n",
       "    <tr>\n",
       "      <td>49996</td>\n",
       "      <td>761</td>\n",
       "      <td>800</td>\n",
       "      <td>1</td>\n",
       "      <td>-0.75</td>\n",
       "      <td>40</td>\n",
       "      <td>-33</td>\n",
       "      <td>60</td>\n",
       "      <td>-28</td>\n",
       "      <td>30</td>\n",
       "    </tr>\n",
       "    <tr>\n",
       "      <td>49997</td>\n",
       "      <td>761</td>\n",
       "      <td>800</td>\n",
       "      <td>1</td>\n",
       "      <td>-0.75</td>\n",
       "      <td>40</td>\n",
       "      <td>-33</td>\n",
       "      <td>60</td>\n",
       "      <td>-28</td>\n",
       "      <td>30</td>\n",
       "    </tr>\n",
       "    <tr>\n",
       "      <td>49998</td>\n",
       "      <td>776</td>\n",
       "      <td>800</td>\n",
       "      <td>1</td>\n",
       "      <td>-0.75</td>\n",
       "      <td>10</td>\n",
       "      <td>-48</td>\n",
       "      <td>67</td>\n",
       "      <td>-51</td>\n",
       "      <td>-23</td>\n",
       "    </tr>\n",
       "    <tr>\n",
       "      <td>49999</td>\n",
       "      <td>784</td>\n",
       "      <td>800</td>\n",
       "      <td>1</td>\n",
       "      <td>0.00</td>\n",
       "      <td>29</td>\n",
       "      <td>44</td>\n",
       "      <td>50</td>\n",
       "      <td>86</td>\n",
       "      <td>35</td>\n",
       "    </tr>\n",
       "  </tbody>\n",
       "</table>\n",
       "<p>50000 rows × 9 columns</p>\n",
       "</div>"
      ],
      "text/plain": [
       "       First_pokemon  Second_pokemon  outcome  type_interaction  calc_speed  \\\n",
       "0                 21               1        0             -1.50         -11   \n",
       "1                 25               1        0              0.00         -27   \n",
       "2                 50               1        1              0.00           5   \n",
       "3                 64               1        0             -1.50         -15   \n",
       "4                 76               1        1              0.00           5   \n",
       "...              ...             ...      ...               ...         ...   \n",
       "49995            735             800        0              1.50         -19   \n",
       "49996            761             800        1             -0.75          40   \n",
       "49997            761             800        1             -0.75          40   \n",
       "49998            776             800        1             -0.75          10   \n",
       "49999            784             800        1              0.00          29   \n",
       "\n",
       "       calc_atk  calc_def  calc_spatk  calc_spdef  \n",
       "0           -66         9         -38          30  \n",
       "1            -7        14          40          30  \n",
       "2            -4       -21          -5         -10  \n",
       "3          -116         4        -108          15  \n",
       "4            -6        14          -1          35  \n",
       "...         ...       ...         ...         ...  \n",
       "49995       194        70         215          40  \n",
       "49996       -33        60         -28          30  \n",
       "49997       -33        60         -28          30  \n",
       "49998       -48        67         -51         -23  \n",
       "49999        44        50          86          35  \n",
       "\n",
       "[50000 rows x 9 columns]"
      ]
     },
     "execution_count": 20,
     "metadata": {},
     "output_type": "execute_result"
    }
   ],
   "source": [
    "train"
   ]
  },
  {
   "cell_type": "code",
   "execution_count": 21,
   "metadata": {},
   "outputs": [
    {
     "data": {
      "text/plain": [
       "count    50000.000000\n",
       "mean         0.064800\n",
       "std         41.340773\n",
       "min       -165.000000\n",
       "25%        -29.000000\n",
       "50%          0.000000\n",
       "75%         29.000000\n",
       "max        170.000000\n",
       "Name: calc_speed, dtype: float64"
      ]
     },
     "execution_count": 21,
     "metadata": {},
     "output_type": "execute_result"
    }
   ],
   "source": [
    "train.calc_speed.describe()"
   ]
  },
  {
   "cell_type": "code",
   "execution_count": 22,
   "metadata": {},
   "outputs": [],
   "source": [
    "#idk how to make this work \n",
    "\n",
    "#train.iloc[0].first_Attack * typechart.loc[(typechart.Attacking == train.iloc[0][\"first_Type 1\"]) | (typechart.Attacking == train.iloc[0][\"first_Type 2\"])][train.iloc[0][\"second_Type 1\"]].prod()\n",
    "# def calc_atk(battle):\n",
    "#     battle = pd.Series(battle)\n",
    "#     new_atk = (battle.first_Attack * typechart.loc[(typechart.Attacking == battle[\"first_Type 1\"]) | (typechart.Attacking == battle[\"first_Type 2\"])][battle[\"second_Type 1\"]].prod() * typechart.loc[(typechart.Attacking == battle[\"first_Type 1\"]) | (typechart.Attacking == battle[\"first_Type 2\"])][battle[\"second_Type 2\"]].prod()) \n",
    "#     return new_atk"
   ]
  },
  {
   "cell_type": "markdown",
   "metadata": {},
   "source": [
    "### New problem: The dataset is imbalanced when it comes to type effectiveness\n",
    "After running experiments on the training dataset, CV had an f1-score of 95% for randomforest. When running tests, the model performs very well when there is no type effectivity (Eevee vs. Ekans, Pikachu vs. Raichu), but surprisingly poorly when type is involved (Blastoise vs. Charizard). This means that the model is biased toward speed, and the threshold for when to prioritize modified attack over speed is really high. Looking at the data, it makes sense why type effectiveness isn't prominent. Below are the distributions of battles where pokemon 1 is effective against pokemon 2, but slower than pokemon 2, and vice-versa. The distributions are unusually even. So at training, using type as a node won't make the tree pure."
   ]
  },
  {
   "cell_type": "code",
   "execution_count": 23,
   "metadata": {},
   "outputs": [
    {
     "data": {
      "text/plain": [
       "1    0.900028\n",
       "0    0.099972\n",
       "Name: outcome, dtype: float64"
      ]
     },
     "execution_count": 23,
     "metadata": {},
     "output_type": "execute_result"
    }
   ],
   "source": [
    "train[(train.type_interaction < 0) & (train.calc_speed > 0)].outcome.value_counts(normalize=True)"
   ]
  },
  {
   "cell_type": "code",
   "execution_count": 24,
   "metadata": {},
   "outputs": [
    {
     "data": {
      "text/plain": [
       "1    8554\n",
       "0    6266\n",
       "Name: outcome, dtype: int64"
      ]
     },
     "execution_count": 24,
     "metadata": {},
     "output_type": "execute_result"
    }
   ],
   "source": [
    "train[(train.type_interaction > 0)].outcome.value_counts()"
   ]
  },
  {
   "cell_type": "code",
   "execution_count": 25,
   "metadata": {},
   "outputs": [
    {
     "data": {
      "text/plain": [
       "0    0.865842\n",
       "1    0.134158\n",
       "Name: outcome, dtype: float64"
      ]
     },
     "execution_count": 25,
     "metadata": {},
     "output_type": "execute_result"
    }
   ],
   "source": [
    "train[(train.type_interaction > 0) & (train.calc_speed < 0)].outcome.value_counts(normalize=True)"
   ]
  },
  {
   "cell_type": "code",
   "execution_count": 26,
   "metadata": {},
   "outputs": [
    {
     "data": {
      "text/plain": [
       "1    8554\n",
       "0    6266\n",
       "Name: outcome, dtype: int64"
      ]
     },
     "execution_count": 26,
     "metadata": {},
     "output_type": "execute_result"
    }
   ],
   "source": [
    "train[(train.type_interaction > 0)].outcome.value_counts()"
   ]
  },
  {
   "cell_type": "markdown",
   "metadata": {},
   "source": [
    "### Idea: Resample\n",
    "Resample with replacement so that there are more cases of pokemon who are more effective but slower winning. Hopefully this works. <br>\n",
    "Rate: A slower but more effective pokemon should beat its opponent 66% of the time. The rate was made by me and my friend by looking at the intuitive outcomes in charmander evolution line vs squirtle evolution line. "
   ]
  },
  {
   "cell_type": "code",
   "execution_count": 27,
   "metadata": {},
   "outputs": [],
   "source": [
    "from sklearn.utils import resample"
   ]
  },
  {
   "cell_type": "code",
   "execution_count": 28,
   "metadata": {},
   "outputs": [
    {
     "data": {
      "text/plain": [
       "1    6374\n",
       "0     708\n",
       "Name: outcome, dtype: int64"
      ]
     },
     "execution_count": 28,
     "metadata": {},
     "output_type": "execute_result"
    }
   ],
   "source": [
    "train[(train.type_interaction < 0) & (train.calc_speed > 0)].outcome.value_counts()"
   ]
  },
  {
   "cell_type": "code",
   "execution_count": 29,
   "metadata": {},
   "outputs": [],
   "source": [
    "#Resample for first_pokemon\n",
    "to_sample = train[(train.type_interaction < 0) & (train.calc_speed > 0) & (train.outcome == 0)]\n",
    "n_samples = train[(train.type_interaction < 0) & (train.calc_speed > 0) & (train.outcome == 1)].shape[0]\n",
    "first_sample = resample(to_sample, replace=True, n_samples=2*n_samples, random_state=42)\n",
    "train = pd.concat([train, first_sample])"
   ]
  },
  {
   "cell_type": "code",
   "execution_count": 30,
   "metadata": {},
   "outputs": [],
   "source": [
    "#Resample for second_pokemon\n",
    "to_sample = train[(train.type_interaction > 0) & (train.calc_speed < 0) & (train.outcome == 1)]\n",
    "n_samples = train[(train.type_interaction > 0) & (train.calc_speed < 0) & (train.outcome == 0)].shape[0]\n",
    "second_sample = resample(to_sample, replace=True, n_samples=2*n_samples, random_state=42)\n",
    "train = pd.concat([train, second_sample])"
   ]
  },
  {
   "cell_type": "code",
   "execution_count": 31,
   "metadata": {},
   "outputs": [
    {
     "data": {
      "text/plain": [
       "75062"
      ]
     },
     "execution_count": 31,
     "metadata": {},
     "output_type": "execute_result"
    }
   ],
   "source": [
    "train.shape[0]"
   ]
  },
  {
   "cell_type": "code",
   "execution_count": 32,
   "metadata": {},
   "outputs": [
    {
     "data": {
      "text/plain": [
       "0    0.61343\n",
       "1    0.38657\n",
       "Name: outcome, dtype: float64"
      ]
     },
     "execution_count": 32,
     "metadata": {},
     "output_type": "execute_result"
    }
   ],
   "source": [
    "train[(train.calc_speed < 0)].outcome.value_counts(normalize=True)"
   ]
  },
  {
   "cell_type": "code",
   "execution_count": 33,
   "metadata": {},
   "outputs": [
    {
     "data": {
      "text/plain": [
       "1    0.626058\n",
       "0    0.373942\n",
       "Name: outcome, dtype: float64"
      ]
     },
     "execution_count": 33,
     "metadata": {},
     "output_type": "execute_result"
    }
   ],
   "source": [
    "train[(train.calc_speed > 0)].outcome.value_counts(normalize=True)"
   ]
  },
  {
   "cell_type": "code",
   "execution_count": 34,
   "metadata": {},
   "outputs": [
    {
     "data": {
      "text/plain": [
       "0    13456\n",
       "1     6374\n",
       "Name: outcome, dtype: int64"
      ]
     },
     "execution_count": 34,
     "metadata": {},
     "output_type": "execute_result"
    }
   ],
   "source": [
    "train[(train.type_interaction < 0) & (train.calc_speed > 0)].outcome.value_counts()"
   ]
  },
  {
   "cell_type": "markdown",
   "metadata": {},
   "source": [
    "### Note on speed, and data\n",
    "Even after resampling (even going as far as 5 times instead of 2 times), the model wasn't able to catch that type interaction is more important than speed. As far as I'm concerned, it doesn't seem like there were any errors in model tuning. My guess is that there isn't enough data in the set that reflects pokemon winning purely via type advantage. This makes it weird, because my model performs really well on battles between pokemon with no type advantage, but surprisingly poorly on pokemon that have type advantages. "
   ]
  },
  {
   "cell_type": "code",
   "execution_count": 35,
   "metadata": {},
   "outputs": [],
   "source": [
    "#Save and pray that model training for this dataset isn't as hard as preprocessing it\n",
    "#I hope to god the outcomes weren't arbitrarily made\n",
    "train.to_csv(\"battles_updated.csv\", index=False)"
   ]
  },
  {
   "cell_type": "code",
   "execution_count": null,
   "metadata": {},
   "outputs": [],
   "source": []
  }
 ],
 "metadata": {
  "kernelspec": {
   "display_name": "Python 3",
   "language": "python",
   "name": "python3"
  },
  "language_info": {
   "codemirror_mode": {
    "name": "ipython",
    "version": 3
   },
   "file_extension": ".py",
   "mimetype": "text/x-python",
   "name": "python",
   "nbconvert_exporter": "python",
   "pygments_lexer": "ipython3",
   "version": "3.7.4"
  }
 },
 "nbformat": 4,
 "nbformat_minor": 4
}
